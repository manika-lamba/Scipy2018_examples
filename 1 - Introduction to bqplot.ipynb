{
 "cells": [
  {
   "cell_type": "markdown",
   "metadata": {},
   "source": [
    "# bqplot"
   ]
  },
  {
   "cell_type": "markdown",
   "metadata": {},
   "source": [
    "Welcome to bqplot! This notebook will serve as an introduction to bqplot and the widgets framework of the Jupyter Notebook. \n",
    "\n",
    "### So, what is bqplot?\n",
    "\n",
    "`bqplot` is a Grammar of Graphics based interactive visualization library for the Jupyter notebook.\n",
    "\n",
    "Uhh, so - what does that mean?"
   ]
  },
  {
   "cell_type": "code",
   "execution_count": 1,
   "metadata": {
    "collapsed": true
   },
   "outputs": [],
   "source": [
    "## Let's see!"
   ]
  },
  {
   "cell_type": "code",
   "execution_count": 2,
   "metadata": {
    "collapsed": true
   },
   "outputs": [],
   "source": [
    "# Let's begin by importing some libraries we'll need\n",
    "import numpy as np\n",
    "import pandas as pd\n",
    "import os\n",
    "from __future__ import print_function # So that this notebook becomes both Python 2 and Python 3 compatible\n",
    "\n",
    "# And creating some random data\n",
    "size = 100\n",
    "np.random.seed(0)\n",
    "x_data = np.arange(size)\n",
    "y_data = np.cumsum(np.random.randn(size)  * 100.0)"
   ]
  },
  {
   "cell_type": "code",
   "execution_count": 3,
   "metadata": {
    "collapsed": true
   },
   "outputs": [],
   "source": [
    "# We'll start with bqplot's matplotlib inspired API\n",
    "\n",
    "from bqplot import pyplot as plt"
   ]
  },
  {
   "cell_type": "markdown",
   "metadata": {},
   "source": [
    "It means that any plot you generate is, by default, an interactive web element that you can control using **only** Python."
   ]
  },
  {
   "cell_type": "code",
   "execution_count": 4,
   "metadata": {
    "scrolled": false
   },
   "outputs": [
    {
     "name": "stderr",
     "output_type": "stream",
     "text": [
      "d:\\code\\open source\\bqplot\\bqplot\\pyplot.py:636: FutureWarning: Conversion of the second argument of issubdtype from `str` to `str` is deprecated. In future, it will be treated as `np.str_ == np.dtype(str).type`.\n",
      "  issubdtype(dtype, Scale.scale_types[key].dtype)\n"
     ]
    },
    {
     "data": {
      "application/vnd.jupyter.widget-view+json": {
       "model_id": "7a93f986871a48658c1eb4729e82c807",
       "version_major": 2,
       "version_minor": 0
      },
      "text/plain": [
       "A Jupyter Widget"
      ]
     },
     "metadata": {},
     "output_type": "display_data"
    }
   ],
   "source": [
    "figure = plt.figure(title='My First Plot')\n",
    "scatter = plt.scatter(x_data, y_data)\n",
    "plt.show()"
   ]
  },
  {
   "cell_type": "markdown",
   "metadata": {},
   "source": [
    "It also means that any aspect of the plot **is an interactive widget**. This allows us to change any aspect of the plot - after it's been drawn.\n",
    "\n",
    "#### Try it! Run the cell below a few times and watch the plot above change!"
   ]
  },
  {
   "cell_type": "code",
   "execution_count": 5,
   "metadata": {
    "collapsed": true
   },
   "outputs": [],
   "source": [
    "scatter.y = np.cumsum(np.random.randn(size)  * 100.0)"
   ]
  },
  {
   "cell_type": "markdown",
   "metadata": {},
   "source": [
    "Since a bqplot chart is a web element, we should be able to animate it right?\n",
    "\n",
    "### Let's animate it!"
   ]
  },
  {
   "cell_type": "code",
   "execution_count": 6,
   "metadata": {
    "collapsed": true
   },
   "outputs": [],
   "source": [
    "figure.animation_duration = 500"
   ]
  },
  {
   "cell_type": "markdown",
   "metadata": {},
   "source": [
    "Voila!"
   ]
  },
  {
   "cell_type": "code",
   "execution_count": 7,
   "metadata": {
    "collapsed": true
   },
   "outputs": [],
   "source": [
    "scatter.y = np.cumsum(np.random.randn(size)  * 100.0)"
   ]
  },
  {
   "cell_type": "markdown",
   "metadata": {},
   "source": [
    "That doesn't apply to just the x and y. To have a look at the attributes, take a look at the documentation!"
   ]
  },
  {
   "cell_type": "code",
   "execution_count": 8,
   "metadata": {
    "collapsed": true
   },
   "outputs": [],
   "source": [
    "# Say, the color\n",
    "scatter.colors = ['Red']"
   ]
  },
  {
   "cell_type": "code",
   "execution_count": 9,
   "metadata": {
    "collapsed": true
   },
   "outputs": [],
   "source": [
    "# Or, the marker style\n",
    "scatter.marker = 'diamond'"
   ]
  },
  {
   "cell_type": "markdown",
   "metadata": {},
   "source": [
    "It's important to remember that an interactive widget means that the `JavaScript` and the `Python` communicate. So, the plot can be changed through a single line of python code, or a piece of python code can be triggered by a change in the plot. Let's go through a simple example. Say we have a function `foo`:"
   ]
  },
  {
   "cell_type": "code",
   "execution_count": 10,
   "metadata": {
    "collapsed": true
   },
   "outputs": [],
   "source": [
    "def foo(change):\n",
    "    print('Hello World')\n",
    "    # print(change)"
   ]
  },
  {
   "cell_type": "markdown",
   "metadata": {},
   "source": [
    "We can call `foo` everytime any attribute of our scatter is changed. Say, the `y` values:"
   ]
  },
  {
   "cell_type": "code",
   "execution_count": 11,
   "metadata": {
    "collapsed": true
   },
   "outputs": [],
   "source": [
    "# First, we hook up our function `foo` to the colors attribute (or Trait) of the scatter plot\n",
    "scatter.observe(foo, 'y')"
   ]
  },
  {
   "cell_type": "markdown",
   "metadata": {},
   "source": [
    "To allow the points in the `Scatter` to be moved interactively, we set the `enable_move` attribute to `True`"
   ]
  },
  {
   "cell_type": "code",
   "execution_count": 12,
   "metadata": {
    "collapsed": true
   },
   "outputs": [],
   "source": [
    "scatter.enable_move = True"
   ]
  },
  {
   "cell_type": "markdown",
   "metadata": {},
   "source": [
    "Go ahead, head over to the chart and move any point in some way. This move (which happens on the `JavaScript` side should trigger our `Python` function `foo`."
   ]
  },
  {
   "cell_type": "markdown",
   "metadata": {},
   "source": [
    "## That's great, but what does that have to do with the Grammar of Graphics?\n",
    "\n",
    "`bqplot` has two different APIs. One is the matplotlib inspired `pyplot` which we used above (you can think of it as similar to `qplot` in `ggplot2`). The other one, the verbose API, is meant to expose every element of a plot individually, so that their attriutes can be controlled in an atomic way. In order to truly use `bqplot` to build complex and feature-rich GUIs, it pays to understand the underlying theory that is used to create a plot.\n",
    "\n",
    "**A `Scale` is a mapping from (function that converts) data coordinates to figure coordinates.** What this means is that, a `Scale` takes a set of values in any arbitrary unit (say number of people, or $, or litres) and converts it to pixels (or colors for a `ColorScale`)."
   ]
  },
  {
   "cell_type": "code",
   "execution_count": 13,
   "metadata": {
    "collapsed": true
   },
   "outputs": [],
   "source": [
    "# First, we import the scales\n",
    "from bqplot import LinearScale"
   ]
  },
  {
   "cell_type": "code",
   "execution_count": 14,
   "metadata": {
    "collapsed": true
   },
   "outputs": [],
   "source": [
    "# Let's create a scale for the x attribute, and a scale for the y attribute\n",
    "x_sc = LinearScale()\n",
    "y_sc = LinearScale()"
   ]
  },
  {
   "cell_type": "markdown",
   "metadata": {},
   "source": [
    "Now, we need to create the actual `Mark` that will visually represent the data. Let's pick a `Scatter` chart to start."
   ]
  },
  {
   "cell_type": "code",
   "execution_count": 15,
   "metadata": {
    "collapsed": true
   },
   "outputs": [],
   "source": [
    "from bqplot import Scatter\n",
    "\n",
    "scatter_chart = Scatter(x=x_data[:20], y=y_data[:20], scales={'x': x_sc, 'y': y_sc})"
   ]
  },
  {
   "cell_type": "markdown",
   "metadata": {},
   "source": [
    "Most of the time, the actual `Figure` co-ordinates don't really mean anything to us. So, what we need is the visual representation of our `Scale`, which is called an `Axis`."
   ]
  },
  {
   "cell_type": "code",
   "execution_count": 16,
   "metadata": {
    "collapsed": true
   },
   "outputs": [],
   "source": [
    "from bqplot import Axis\n",
    "\n",
    "x_ax = Axis(label='X', scale=x_sc)\n",
    "y_ax = Axis(label='Y', scale=y_sc, orientation='vertical')"
   ]
  },
  {
   "cell_type": "markdown",
   "metadata": {},
   "source": [
    "And finally, we put it all together on a canvas, which is called a `Figure`."
   ]
  },
  {
   "cell_type": "code",
   "execution_count": 17,
   "metadata": {},
   "outputs": [
    {
     "data": {
      "application/vnd.jupyter.widget-view+json": {
       "model_id": "88b8dbb3105c45d794d82a358c0b4e2f",
       "version_major": 2,
       "version_minor": 0
      },
      "text/plain": [
       "A Jupyter Widget"
      ]
     },
     "metadata": {},
     "output_type": "display_data"
    }
   ],
   "source": [
    "from bqplot import Figure\n",
    "\n",
    "fig = Figure(marks=[scatter_chart], title='A Figure', axes=[x_ax, y_ax])\n",
    "fig"
   ]
  },
  {
   "cell_type": "markdown",
   "metadata": {},
   "source": [
    "Now, that the plot has been generated, we can control every single attribute of it. Let's say we wanted to color the chart based on some other data."
   ]
  },
  {
   "cell_type": "code",
   "execution_count": 26,
   "metadata": {},
   "outputs": [
    {
     "data": {
      "text/plain": [
       "array([1, 1, 0, 0, 0, 0, 1, 0, 0, 0, 0, 1, 1, 1, 1, 1, 0, 1, 0, 0])"
      ]
     },
     "execution_count": 26,
     "metadata": {},
     "output_type": "execute_result"
    }
   ],
   "source": [
    "# First, we generate some random color data.\n",
    "color_data = np.random.randint(0, 2, size=20)\n",
    "color_data"
   ]
  },
  {
   "cell_type": "markdown",
   "metadata": {},
   "source": [
    "Now, we define a ColorScale to map the color_data to actual colors"
   ]
  },
  {
   "cell_type": "code",
   "execution_count": 20,
   "metadata": {
    "collapsed": true
   },
   "outputs": [],
   "source": [
    "from bqplot import ColorScale\n",
    "\n",
    "# The colors trait controls the actual colors we want to map to. It can also take a min, mid, max list of\n",
    "# colors to be interpolated between for continuous data.\n",
    "col_sc = ColorScale(colors=['MediumSeaGreen', 'Red'])"
   ]
  },
  {
   "cell_type": "code",
   "execution_count": 21,
   "metadata": {
    "collapsed": true
   },
   "outputs": [],
   "source": [
    "scatter_chart.scales = {'x': x_sc, 'y': y_sc, 'color': col_sc}\n",
    "# We pass the color data to the Scatter Chart through it's color attribute\n",
    "scatter_chart.color = color_data"
   ]
  },
  {
   "cell_type": "markdown",
   "metadata": {},
   "source": [
    "The grammar of graphics framework allows us to overlay multiple visualizations on a single `Figure` by having the visualization share the `Scales`. So, for example, if we had a `Bar` chart that we would like to plot alongside the `Scatter` plot, we just pass it the same `Scales`."
   ]
  },
  {
   "cell_type": "code",
   "execution_count": 22,
   "metadata": {
    "collapsed": true
   },
   "outputs": [],
   "source": [
    "from bqplot import Bars\n",
    "\n",
    "scale = 100.\n",
    "x_data_new = np.arange(20)\n",
    "y_data_new = np.cumsum(np.random.randn(20)  * scale)"
   ]
  },
  {
   "cell_type": "code",
   "execution_count": 27,
   "metadata": {
    "collapsed": true
   },
   "outputs": [],
   "source": [
    "# All we need to do to add a bar chart to the Figure is pass the same scales to the Mark\n",
    "bar_chart = Bars(x=x_data_new, y=y_data_new, scales={'x': x_sc, 'y': y_sc})"
   ]
  },
  {
   "cell_type": "markdown",
   "metadata": {},
   "source": [
    "Finally, we add the new `Mark` to the `Figure` to update the plot!"
   ]
  },
  {
   "cell_type": "code",
   "execution_count": 28,
   "metadata": {},
   "outputs": [
    {
     "data": {
      "application/vnd.jupyter.widget-view+json": {
       "model_id": "88b8dbb3105c45d794d82a358c0b4e2f",
       "version_major": 2,
       "version_minor": 0
      },
      "text/plain": [
       "A Jupyter Widget"
      ]
     },
     "metadata": {},
     "output_type": "display_data"
    }
   ],
   "source": [
    "fig.marks = [bar_chart, scatter_chart]\n",
    "fig"
   ]
  },
  {
   "cell_type": "markdown",
   "metadata": {},
   "source": [
    "We can plot and overlay any kind of marks on the Figure! Even images"
   ]
  },
  {
   "cell_type": "code",
   "execution_count": 31,
   "metadata": {},
   "outputs": [
    {
     "name": "stderr",
     "output_type": "stream",
     "text": [
      "d:\\code\\open source\\bqplot\\bqplot\\pyplot.py:636: FutureWarning: Conversion of the second argument of issubdtype from `str` to `str` is deprecated. In future, it will be treated as `np.str_ == np.dtype(str).type`.\n",
      "  issubdtype(dtype, Scale.scale_types[key].dtype)\n"
     ]
    },
    {
     "data": {
      "application/vnd.jupyter.widget-view+json": {
       "model_id": "5fa01720e9634a40ab78fb5c0da92e87",
       "version_major": 2,
       "version_minor": 0
      },
      "text/plain": [
       "A Jupyter Widget"
      ]
     },
     "metadata": {},
     "output_type": "display_data"
    }
   ],
   "source": [
    "image_path = os.path.abspath('./data_files/trees.jpg')\n",
    "\n",
    "plt.figure()\n",
    "image = plt.imshow(image_path, 'filename')\n",
    "plt.plot([0.1, 0.8], [0.1, 0.8], stroke_width=2.5, colors=['red'])\n",
    "plt.show()"
   ]
  },
  {
   "cell_type": "markdown",
   "metadata": {},
   "source": [
    "The image is just another mark and it's properties can be changed from python"
   ]
  },
  {
   "cell_type": "code",
   "execution_count": 68,
   "metadata": {
    "collapsed": true
   },
   "outputs": [],
   "source": [
    "image.x = [0.25, 0.5]\n",
    "image.y = [0.1, 0.35]"
   ]
  },
  {
   "cell_type": "markdown",
   "metadata": {},
   "source": [
    "## Overview of bqplot `Marks` "
   ]
  },
  {
   "cell_type": "markdown",
   "metadata": {},
   "source": [
    "Checkout the [bqplot examples](https://github.com/bloomberg/bqplot/tree/master/examples/Marks) for a simple walkthrough of all the basic visualizations that bqplot offers"
   ]
  },
  {
   "cell_type": "markdown",
   "metadata": {},
   "source": [
    "## Interactions"
   ]
  },
  {
   "cell_type": "markdown",
   "metadata": {},
   "source": [
    "### Tooltips\n",
    "\n",
    "Tooltips can be made to display an attribute of the data:"
   ]
  },
  {
   "cell_type": "code",
   "execution_count": 34,
   "metadata": {},
   "outputs": [],
   "source": [
    "county_data = pd.read_csv(os.path.abspath('./data_files/2008-election-results.csv'))\n",
    "winner = np.array(['McCain'] * county_data.shape[0])\n",
    "winner[(county_data['Obama'] > county_data['McCain']).values] = 'Obama'"
   ]
  },
  {
   "cell_type": "code",
   "execution_count": 35,
   "metadata": {
    "collapsed": true
   },
   "outputs": [],
   "source": [
    "from bqplot import Tooltip, AlbersUSA, OrdinalColorScale, ColorAxis"
   ]
  },
  {
   "cell_type": "code",
   "execution_count": 36,
   "metadata": {
    "collapsed": true
   },
   "outputs": [],
   "source": [
    "sc_geo_county = AlbersUSA()\n",
    "sc_c1_county = OrdinalColorScale(domain=['McCain', 'Obama'], colors=['Red', 'DeepSkyBlue'])\n",
    "color_data_county = dict(zip(county_data['FIPS'].values.astype(int), list(winner)))\n",
    "\n",
    "map_styles_county = {'color': color_data_county,\n",
    "              'scales': {'projection': sc_geo_county, 'color': sc_c1_county}, 'colors': {'default_color': 'Grey'}}\n",
    "\n",
    "county_fig = plt.figure(title='US Elections 2008 - Example')\n",
    "county_map = plt.geo(map_data='USCountiesMap', **map_styles_county)"
   ]
  },
  {
   "cell_type": "code",
   "execution_count": 37,
   "metadata": {
    "collapsed": true
   },
   "outputs": [],
   "source": [
    "map_tt = Tooltip(fields=['id', 'name', 'color'], labels=['County Code', 'County Name', 'Winner'])"
   ]
  },
  {
   "cell_type": "code",
   "execution_count": 38,
   "metadata": {
    "collapsed": true
   },
   "outputs": [],
   "source": [
    "county_map.tooltip = map_tt"
   ]
  },
  {
   "cell_type": "code",
   "execution_count": 39,
   "metadata": {},
   "outputs": [
    {
     "data": {
      "application/vnd.jupyter.widget-view+json": {
       "model_id": "6514d1e889ae42c7a634c53060fab301",
       "version_major": 2,
       "version_minor": 0
      },
      "text/plain": [
       "A Jupyter Widget"
      ]
     },
     "metadata": {},
     "output_type": "display_data"
    }
   ],
   "source": [
    "county_fig"
   ]
  },
  {
   "cell_type": "markdown",
   "metadata": {},
   "source": [
    "Alternately, any instance of a widget can be made a `Tooltip`"
   ]
  },
  {
   "cell_type": "code",
   "execution_count": 40,
   "metadata": {},
   "outputs": [
    {
     "name": "stderr",
     "output_type": "stream",
     "text": [
      "d:\\code\\open source\\bqplot\\bqplot\\pyplot.py:636: FutureWarning: Conversion of the second argument of issubdtype from `str` to `str` is deprecated. In future, it will be treated as `np.str_ == np.dtype(str).type`.\n",
      "  issubdtype(dtype, Scale.scale_types[key].dtype)\n"
     ]
    }
   ],
   "source": [
    "tt_fig = plt.figure(title='Figure as a tooltip')\n",
    "tt_line = plt.plot(x_data, y_data)"
   ]
  },
  {
   "cell_type": "code",
   "execution_count": 41,
   "metadata": {},
   "outputs": [
    {
     "data": {
      "application/vnd.jupyter.widget-view+json": {
       "model_id": "59a6083e1b3f4aa5acfc0f8d1f2716c8",
       "version_major": 2,
       "version_minor": 0
      },
      "text/plain": [
       "A Jupyter Widget"
      ]
     },
     "metadata": {},
     "output_type": "display_data"
    }
   ],
   "source": [
    "map_fig = plt.figure(title='World Map')\n",
    "world_map = plt.geo(map_data='WorldMap', tooltip=tt_fig)\n",
    "map_fig"
   ]
  },
  {
   "cell_type": "markdown",
   "metadata": {},
   "source": [
    "## Selections"
   ]
  },
  {
   "cell_type": "code",
   "execution_count": 47,
   "metadata": {
    "scrolled": true
   },
   "outputs": [
    {
     "name": "stderr",
     "output_type": "stream",
     "text": [
      "d:\\code\\open source\\bqplot\\bqplot\\pyplot.py:636: FutureWarning: Conversion of the second argument of issubdtype from `str` to `str` is deprecated. In future, it will be treated as `np.str_ == np.dtype(str).type`.\n",
      "  issubdtype(dtype, Scale.scale_types[key].dtype)\n"
     ]
    },
    {
     "data": {
      "application/vnd.jupyter.widget-view+json": {
       "model_id": "cc14e6ef11484afc9d6de370fca4e63d",
       "version_major": 2,
       "version_minor": 0
      },
      "text/plain": [
       "A Jupyter Widget"
      ]
     },
     "metadata": {},
     "output_type": "display_data"
    },
    {
     "name": "stdout",
     "output_type": "stream",
     "text": [
      "The selected indexes are [47]\n",
      "The selected indexes are [52]\n",
      "The selected indexes are [57]\n",
      "The selected indexes are [72]\n",
      "The selected indexes are None\n",
      "The selected indexes are []\n",
      "[44.32150834027458 44.70974363439223]\n",
      "The selected indexes are [45, 46]\n",
      "[44.32150834027458 46.84503775203929]\n",
      "The selected indexes are [45, 46, 47, 48]\n",
      "[44.32150834027458 48.00974363439223]\n",
      "[44.32150834027458 48.980328907686115]\n",
      "The selected indexes are [45, 46, 47, 48, 49, 50, 51]\n",
      "[44.32150834027458 51.309740672391996]\n",
      "The selected indexes are [45, 46, 47, 48, 49, 50, 51, 52]\n",
      "[44.32150834027458 52.86268184886259]\n",
      "The selected indexes are [45, 46, 47, 48, 49, 50, 51, 52, 53, 54, 55]\n",
      "[44.32150834027458 55.192093613568474]\n",
      "The selected indexes are [45, 46, 47, 48, 49, 50, 51, 52, 53, 54, 55, 56, 57]\n",
      "[44.32150834027458 57.71562302533317]\n",
      "The selected indexes are [45, 46, 47, 48, 49, 50, 51, 52, 53, 54, 55, 56, 57, 58, 59]\n",
      "[44.32150834027458 59.074446554744945]\n",
      "[44.32150834027458 59.65679949592141]\n",
      "[44.32150834027458 59.85091714298024]\n",
      "The selected indexes are [45, 46, 47, 48, 49, 50, 51, 52, 53, 54, 55, 56, 57, 58, 59, 60]\n",
      "[44.51562598733341 60.04503479003906]\n",
      "The selected indexes are [49, 50, 51, 52, 53, 54, 55, 56, 57, 58, 59, 60, 61, 62, 63, 64]\n",
      "[48.98033186968635 64.509740672392]\n",
      "The selected indexes are [52, 53, 54, 55, 56, 57, 58, 59, 60, 61, 62, 63, 64, 65, 66, 67]\n",
      "[51.697978928509876 67.22738773121553]\n",
      "The selected indexes are [56, 57, 58, 59, 60, 61, 62, 63, 64, 65, 66, 67, 68, 69, 70]\n",
      "[55.38621422262752 70.91562302533319]\n",
      "The selected indexes are [63, 64, 65, 66, 67, 68, 69, 70, 71, 72, 73, 74, 75, 76, 77]\n",
      "[62.180331869686356 77.709740672392]\n",
      "The selected indexes are [65, 66, 67, 68, 69, 70, 71, 72, 73, 74, 75, 76, 77, 78, 79]\n",
      "[64.12150834027459 79.65091714298023]\n",
      "The selected indexes are [70, 71, 72, 73, 74, 75, 76, 77, 78, 79, 80, 81, 82, 83, 84, 85]\n",
      "[69.55680245792165 85.0862112606273]\n",
      "The selected indexes are [75, 76, 77, 78, 79, 80, 81, 82, 83, 84, 85, 86, 87, 88, 89, 90]\n",
      "[74.99209657556871 90.52150537827436]\n",
      "The selected indexes are [78, 79, 80, 81, 82, 83, 84, 85, 86, 87, 88, 89, 90, 91, 92, 93]\n",
      "[77.70974363439224 93.23915243709789]\n",
      "The selected indexes are [79, 80, 81, 82, 83, 84, 85, 86, 87, 88, 89, 90, 91, 92, 93, 94]\n",
      "[78.48621422262754 94.01562302533317]\n",
      "[78.68033186968634 94.209740672392]\n",
      "The selected indexes are [78, 79, 80, 81, 82, 83, 84, 85, 86, 87, 88, 89, 90, 91, 92, 93]\n",
      "[77.70974363439224 93.23915243709789]\n",
      "The selected indexes are [68, 69, 70, 71, 72, 73, 74, 75, 76, 77, 78, 79, 80, 81, 82, 83]\n",
      "[67.6156259873334 83.14503479003906]\n",
      "The selected indexes are [59, 60, 61, 62, 63, 64, 65, 66, 67, 68, 69, 70, 71, 72, 73]\n",
      "[58.29797892850987 73.82738773121554]\n",
      "The selected indexes are [51, 52, 53, 54, 55, 56, 57, 58, 59, 60, 61, 62, 63, 64, 65, 66]\n",
      "[50.921508340274585 66.45091714298023]\n",
      "The selected indexes are [48, 49, 50, 51, 52, 53, 54, 55, 56, 57, 58, 59, 60, 61, 62]\n",
      "[47.03915539909812 62.56856420180377]\n",
      "The selected indexes are [42, 43, 44, 45, 46, 47, 48, 49, 50, 51, 52, 53, 54, 55, 56]\n",
      "[41.21562894933364 56.74503775203929]\n",
      "The selected indexes are [36, 37, 38, 39, 40, 41, 42, 43, 44, 45, 46, 47, 48, 49, 50]\n",
      "[35.39209953756893 50.921508340274585]\n",
      "The selected indexes are [31, 32, 33, 34, 35, 36, 37, 38, 39, 40, 41, 42, 43, 44, 45]\n",
      "[30.150923066980695 45.680331869686356]\n",
      "The selected indexes are [23, 24, 25, 26, 27, 28, 29, 30, 31, 32, 33, 34, 35, 36, 37, 38]\n",
      "[22.968570125804227 38.49797892850987]\n",
      "The selected indexes are [16, 17, 18, 19, 20, 21, 22, 23, 24, 25, 26, 27, 28, 29, 30]\n",
      "[15.397980409509994 30.92738921221565]\n",
      "The selected indexes are [10, 11, 12, 13, 14, 15, 16, 17, 18, 19, 20, 21, 22, 23, 24, 25]\n",
      "[9.962686291862937 25.492095094568587]\n",
      "The selected indexes are [6, 7, 8, 9, 10, 11, 12, 13, 14, 15, 16, 17, 18, 19, 20, 21]\n",
      "[5.692098056568819 21.221506859274474]\n",
      "The selected indexes are [3, 4, 5, 6, 7, 8, 9, 10, 11, 12, 13, 14, 15, 16, 17]\n",
      "[2.003862762451172 17.533271565156824]\n",
      "The selected indexes are [0, 1, 2, 3, 4, 5, 6, 7, 8, 9, 10, 11, 12, 13, 14, 15]\n",
      "[-0.519666649313534 15.009742153392118]\n",
      "The selected indexes are [0, 1, 2, 3, 4, 5, 6, 7, 8, 9, 10, 11, 12, 13, 14]\n",
      "[-0.9705882352941176 14.558820567411535]\n",
      "The selected indexes are [2, 3, 4, 5, 6, 7, 8, 9, 10, 11, 12, 13, 14, 15, 16]\n",
      "[1.033274527157054 16.562683329862704]\n",
      "The selected indexes are [13, 14, 15, 16, 17, 18, 19, 20, 21, 22, 23, 24, 25, 26, 27, 28]\n",
      "[12.874450997745292 28.403859800450938]\n",
      "The selected indexes are [21, 22, 23, 24, 25, 26, 27, 28, 29, 30, 31, 32, 33, 34, 35]\n",
      "[20.445040714039525 35.974449516745175]\n",
      "The selected indexes are [28, 29, 30, 31, 32, 33, 34, 35, 36, 37, 38, 39, 40, 41, 42]\n",
      "[27.239158361098347 42.768567163804]\n",
      "The selected indexes are [30, 31, 32, 33, 34, 35, 36, 37, 38, 39, 40, 41, 42, 43, 44, 45]\n",
      "[29.56857012580423 45.097978928509875]\n",
      "The selected indexes are [33, 34, 35, 36, 37, 38, 39, 40, 41, 42, 43, 44, 45, 46, 47]\n",
      "[32.28621718462775 47.81562598733341]\n",
      "The selected indexes are [37, 38, 39, 40, 41, 42, 43, 44, 45, 46, 47, 48, 49, 50, 51]\n",
      "[36.16857012580423 51.697978928509876]\n",
      "The selected indexes are [42, 43, 44, 45, 46, 47, 48, 49, 50, 51, 52, 53, 54, 55, 56, 57]\n",
      "[41.60386424345129 57.13327304615694]\n",
      "The selected indexes are [49, 50, 51, 52, 53, 54, 55, 56, 57, 58, 59, 60, 61, 62, 63]\n",
      "[48.203861281451054 63.73327008415671]\n",
      "The selected indexes are [56, 57, 58, 59, 60, 61, 62, 63, 64, 65, 66, 67, 68, 69, 70, 71]\n",
      "[55.968567163804 71.49797596650966]\n",
      "The selected indexes are [63, 64, 65, 66, 67, 68, 69, 70, 71, 72, 73, 74, 75, 76, 77, 78]\n",
      "[62.568567163804 78.09797596650965]\n",
      "The selected indexes are [68, 69, 70, 71, 72, 73, 74, 75, 76, 77, 78, 79, 80, 81, 82]\n",
      "[67.22739069321577 82.75679949592141]\n",
      "The selected indexes are [71, 72, 73, 74, 75, 76, 77, 78, 79, 80, 81, 82, 83, 84, 85]\n",
      "[70.33327304615695 85.86268184886258]\n",
      "The selected indexes are [74, 75, 76, 77, 78, 79, 80, 81, 82, 83, 84, 85, 86, 87, 88, 89]\n",
      "[73.63327304615693 89.16268184886259]\n",
      "The selected indexes are [77, 78, 79, 80, 81, 82, 83, 84, 85, 86, 87, 88, 89, 90, 91, 92]\n",
      "[76.93327304615694 92.46268184886259]\n",
      "The selected indexes are [80, 81, 82, 83, 84, 85, 86, 87, 88, 89, 90, 91, 92, 93, 94, 95]\n",
      "[79.84503775203929 95.37444655474494]\n",
      "The selected indexes are [81, 82, 83, 84, 85, 86, 87, 88, 89, 90, 91, 92, 93, 94, 95, 96]\n",
      "[80.8156259873334 96.34503479003907]\n",
      "The selected indexes are [82, 83, 84, 85, 86, 87, 88, 89, 90, 91, 92, 93, 94, 95, 96]\n",
      "[81.00974363439224 96.5391524370979]\n",
      "The selected indexes are [82, 83, 84, 85, 86, 87, 88, 89, 90, 91, 92, 93, 94, 95, 96, 97]\n",
      "[81.5920965755687 97.12150537827435]\n",
      "[81.78621422262752 97.31562302533318]\n",
      "[81.5920965755687 97.12150537827435]\n",
      "The selected indexes are [73, 74, 75, 76, 77, 78, 79, 80, 81, 82, 83, 84, 85, 86, 87]\n",
      "[72.27444951674518 87.80385831945082]\n",
      "The selected indexes are [66, 67, 68, 69, 70, 71, 72, 73, 74, 75, 76, 77, 78, 79, 80]\n",
      "[65.28621422262754 80.81562302533318]\n",
      "The selected indexes are [65, 66, 67, 68, 69, 70, 71, 72, 73, 74, 75, 76, 77, 78, 79, 80]\n",
      "[64.70386128145104 80.23327008415671]\n",
      "[64.50974363439224 80.03915243709788]\n",
      "The selected indexes are [64, 65, 66, 67, 68, 69, 70, 71, 72, 73, 74, 75, 76, 77, 78]\n",
      "[63.15092010498047 78.68032890768612]\n",
      "The selected indexes are [62, 63, 64, 65, 66, 67, 68, 69, 70, 71, 72, 73, 74, 75, 76, 77]\n",
      "[61.98621422262753 77.51562302533318]\n",
      "[61.79209657556871 77.32150537827435]\n",
      "The selected indexes are [61, 62, 63, 64, 65, 66, 67, 68, 69, 70, 71, 72, 73, 74, 75, 76]\n",
      "[60.82150834027458 76.35091714298022]\n",
      "The selected indexes are [59, 60, 61, 62, 63, 64, 65, 66, 67, 68, 69, 70, 71, 72, 73]\n",
      "[58.29797892850987 73.82738773121554]\n",
      "The selected indexes are [58, 59, 60, 61, 62, 63, 64, 65, 66, 67, 68, 69, 70, 71, 72]\n",
      "[57.32739069321576 72.85679949592141]\n",
      "The selected indexes are None\n",
      "The selected indexes are [10]\n",
      "[62.3966542294151 63.26507528204668]\n",
      "The selected indexes are [3, 4, 5, 6, 7, 8, 9, 10, 48, 49, 50, 51, 52, 53, 54, 55, 56, 57, 58, 59, 97, 98, 99]\n",
      "[47.0545489662572 63.26507528204668]\n",
      "The selected indexes are [3, 4, 5, 6, 7, 8, 9, 10, 48, 49, 50, 51, 52, 53, 54, 55, 56, 57, 58, 59, 60, 61, 95, 96, 97, 98, 99]\n",
      "[40.97560159783614 63.26507528204668]\n",
      "[40.10718054520457 63.26507528204668]\n",
      "The selected indexes are [2, 3, 4, 5, 6, 7, 8, 9, 10, 48, 49, 50, 51, 52, 53, 54, 55, 56, 57, 58, 59, 60, 61, 95, 96, 97, 98, 99]\n"
     ]
    },
    {
     "name": "stdout",
     "output_type": "stream",
     "text": [
      "[38.94928580836246 63.26507528204668]\n",
      "The selected indexes are [2, 3, 4, 5, 6, 7, 8, 9, 10, 48, 49, 50, 51, 52, 53, 54, 55, 56, 57, 58, 59, 60, 61, 94, 95, 96, 97, 98, 99]\n",
      "[37.79139107152035 63.26507528204668]\n",
      "The selected indexes are [2, 3, 4, 5, 6, 7, 8, 9, 10, 48, 49, 50, 51, 52, 53, 54, 55, 56, 57, 58, 59, 60, 61, 62, 94, 95, 96, 97, 98, 99]\n",
      "[36.922970018888776 63.26507528204668]\n",
      "The selected indexes are [2, 3, 4, 5, 6, 7, 8, 9, 10, 48, 49, 50, 51, 52, 53, 54, 55, 56, 57, 58, 59, 60, 61, 62, 93, 94, 95, 96, 97, 98, 99]\n",
      "[35.76507528204667 63.26507528204668]\n",
      "[35.475601597836146 63.26507528204668]\n",
      "[36.054548966257194 63.844022650467714]\n",
      "The selected indexes are [3, 4, 5, 6, 7, 8, 9, 10, 42, 46, 48, 49, 50, 51, 52, 53, 54, 55, 56, 57, 58, 59, 60, 61, 95, 96, 97, 98, 99]\n",
      "[40.68612791362562 68.47560159783615]\n",
      "The selected indexes are [3, 4, 5, 6, 7, 8, 9, 10, 11, 20, 21, 42, 45, 46, 47, 48, 49, 50, 51, 52, 53, 54, 55, 56, 57, 58, 59, 97, 98, 99]\n",
      "[46.475601597836146 74.26507528204667]\n",
      "The selected indexes are [3, 4, 5, 6, 7, 8, 9, 10, 11, 12, 13, 20, 21, 23, 41, 42, 44, 45, 46, 47, 48, 49, 50, 51, 52, 55, 56, 57, 97, 98, 99]\n",
      "[50.23876170108193 78.02823538529246]\n",
      "The selected indexes are [4, 5, 6, 7, 8, 9, 10, 11, 12, 13, 14, 15, 20, 21, 22, 23, 25, 26, 27, 33, 34, 35, 41, 42, 43, 44, 45, 46, 47, 48, 49, 50, 51, 52]\n",
      "[54.87034064845035 82.65981433266087]\n",
      "The selected indexes are [4, 6, 7, 8, 9, 10, 11, 12, 13, 14, 15, 19, 20, 21, 22, 23, 25, 26, 27, 33, 34, 35, 40, 41, 42, 43, 44, 45, 46, 47, 48, 49, 51]\n",
      "[57.47560380634509 85.26507749055561]\n",
      "The selected indexes are [9, 10, 11, 12, 13, 14, 15, 16, 17, 18, 19, 20, 21, 22, 23, 24, 25, 26, 27, 28, 33, 34, 35, 36, 40, 41, 42, 43, 44, 45, 46, 47]\n",
      "[61.81770906950299 89.6071827537135]\n",
      "The selected indexes are [11, 12, 13, 14, 15, 16, 17, 18, 19, 20, 21, 22, 23, 24, 25, 26, 27, 28, 29, 30, 32, 33, 34, 35, 36, 37, 38, 39, 40, 41, 43, 44, 45, 47]\n",
      "[68.47560380634509 96.26507749055561]\n",
      "The selected indexes are [11, 12, 13, 14, 15, 16, 17, 18, 19, 21, 22, 23, 24, 25, 26, 27, 28, 29, 30, 31, 32, 33, 34, 35, 36, 37, 38, 39, 40, 41, 43, 44, 45]\n",
      "[71.08086696423983 98.87034064845035]\n",
      "The selected indexes are [12, 13, 14, 15, 16, 17, 18, 19, 21, 22, 23, 24, 25, 26, 27, 28, 29, 30, 31, 32, 33, 34, 35, 36, 37, 38, 39, 40, 41, 43, 44]\n",
      "[73.1071827537135 100.89665643792404]\n",
      "[73.81578947368422 101.60526315789474]\n",
      "The selected indexes are [12, 13, 14, 15, 16, 17, 18, 19, 21, 22, 23, 24, 25, 26, 27, 28, 29, 30, 31, 32, 33, 34, 35, 36, 37, 38, 39, 40, 41, 43, 44, 45]\n",
      "[72.81770906950298 100.60718275371352]\n",
      "The selected indexes are [4, 6, 9, 10, 11, 12, 13, 14, 15, 16, 17, 19, 20, 21, 22, 23, 24, 25, 26, 27, 28, 33, 34, 35, 36, 40, 41, 42, 43, 44, 45, 46, 47, 48]\n",
      "[60.94928801687141 88.73876170108193]\n",
      "The selected indexes are [4, 6, 7, 8, 9, 10, 11, 12, 13, 14, 15, 19, 20, 21, 22, 23, 25, 26, 27, 33, 34, 35, 40, 41, 42, 43, 44, 45, 46, 47, 48, 49, 51]\n",
      "[57.47560380634509 85.26507749055561]\n",
      "The selected indexes are [3, 4, 5, 6, 7, 8, 9, 10, 11, 12, 13, 20, 21, 23, 42, 44, 45, 46, 47, 48, 49, 50, 51, 52, 53, 54, 55, 56, 57, 58, 97, 98, 99]\n",
      "[48.212443703099304 76.00191738730983]\n",
      "The selected indexes are [3, 4, 5, 6, 7, 8, 9, 10, 42, 46, 48, 49, 50, 51, 52, 53, 54, 55, 56, 57, 58, 59, 60, 61, 95, 96, 97, 98, 99]\n",
      "[40.97560159783614 68.76507528204668]\n",
      "The selected indexes are [2, 3, 4, 5, 6, 7, 8, 9, 10, 48, 49, 50, 51, 52, 53, 54, 55, 56, 57, 58, 59, 60, 61, 62, 94, 95, 96, 97, 98, 99]\n",
      "[36.922970018888776 64.7124437030993]\n",
      "The selected indexes are [1, 2, 3, 5, 50, 51, 52, 53, 54, 55, 56, 57, 58, 59, 60, 61, 62, 93, 94, 95, 96, 97, 98, 99]\n",
      "[32.00191738730983 59.79139107152036]\n",
      "The selected indexes are [0, 1, 2, 3, 52, 53, 54, 55, 56, 57, 58, 59, 60, 61, 62, 63, 64, 91, 92, 93, 94, 95, 96, 97, 98, 99]\n",
      "[27.37033843994141 55.159812124151934]\n",
      "The selected indexes are [0, 1, 2, 53, 54, 58, 59, 60, 61, 62, 63, 64, 65, 72, 86, 87, 89, 90, 91, 92, 93, 94, 95, 96]\n",
      "[22.159812124151934 49.94928580836246]\n",
      "The selected indexes are [0, 1, 2, 60, 61, 62, 63, 64, 65, 66, 67, 70, 71, 72, 73, 74, 75, 85, 86, 87, 88, 89, 90, 91, 92, 93, 94, 95, 96]\n",
      "[17.528233176783512 45.31770686099404]\n",
      "The selected indexes are [0, 1, 2, 62, 63, 64, 65, 66, 67, 68, 69, 70, 71, 72, 73, 74, 75, 76, 85, 86, 87, 88, 89, 90, 91, 92, 93, 94]\n",
      "[11.73876390959087 39.5282375938014]\n",
      "The selected indexes are [0, 1, 63, 64, 65, 66, 67, 68, 69, 70, 71, 72, 73, 74, 75, 76, 77, 78, 79, 82, 84, 85, 86, 87, 88, 89, 90, 91, 92]\n",
      "[7.396658646432977 35.1861323306435]\n",
      "The selected indexes are [63, 64, 65, 66, 67, 68, 69, 70, 71, 72, 73, 74, 75, 76, 77, 78, 79, 81, 82, 84, 85, 86, 87, 88, 89, 90, 91, 92]\n",
      "[3.633500751696135 31.422974435906664]\n",
      "The selected indexes are [65, 66, 67, 68, 69, 70, 71, 72, 73, 74, 75, 76, 77, 78, 79, 80, 81, 82, 83, 84, 85, 86, 87, 88, 89, 90]\n",
      "[-0.9980781956722862 26.791395488538242]\n",
      "The selected indexes are [66, 67, 68, 69, 70, 71, 73, 74, 75, 76, 77, 78, 79, 80, 81, 82, 83, 84, 85, 88, 90]\n",
      "[-2.6052631578947367 25.184210526315788]\n",
      "The selected indexes are [65, 66, 67, 68, 69, 70, 71, 72, 73, 74, 75, 76, 77, 78, 79, 80, 81, 82, 83, 84, 85, 86, 87, 88, 89, 90]\n",
      "[-0.9980781956722862 26.791395488538242]\n",
      "The selected indexes are [0, 1, 63, 64, 65, 66, 67, 68, 69, 70, 71, 72, 73, 74, 75, 76, 77, 78, 79, 81, 82, 84, 85, 86, 87, 88, 89, 90, 91, 92]\n",
      "[6.528237593801398 34.31771127801193]\n",
      "The selected indexes are [0, 1, 62, 63, 64, 65, 66, 67, 68, 69, 70, 71, 72, 73, 74, 75, 76, 85, 86, 87, 88, 89, 90, 91, 92, 93, 94]\n",
      "[11.159816541169821 38.949290225380345]\n",
      "The selected indexes are [0, 1, 2, 60, 61, 62, 63, 64, 65, 66, 67, 70, 71, 72, 73, 74, 75, 85, 86, 87, 88, 89, 90, 91, 92, 93, 94, 95, 96]\n",
      "[17.528233176783512 45.31770686099404]\n",
      "The selected indexes are [0, 1, 2, 3, 53, 54, 55, 56, 57, 58, 59, 60, 61, 62, 63, 64, 65, 72, 86, 91, 92, 93, 94, 95, 96, 97, 98]\n",
      "[25.633496334678252 53.422970018888776]\n",
      "The selected indexes are [1, 2, 3, 5, 7, 8, 49, 50, 51, 52, 53, 54, 55, 56, 57, 58, 59, 60, 61, 62, 93, 94, 95, 96, 97, 98, 99]\n",
      "[33.15981212415193 60.94928580836246]\n",
      "The selected indexes are [2, 3, 4, 5, 6, 7, 8, 9, 10, 48, 49, 50, 51, 52, 53, 54, 55, 56, 57, 58, 59, 60, 61, 62, 93, 94, 95, 96, 97, 98, 99]\n",
      "[35.475601597836146 63.26507528204668]\n",
      "[36.054548966257194 63.844022650467714]\n",
      "The selected indexes are [3, 4, 5, 6, 7, 8, 9, 10, 42, 46, 48, 49, 50, 51, 52, 53, 54, 55, 56, 57, 58, 59, 60, 61, 95, 96, 97, 98, 99]\n",
      "[40.10718054520457 67.89665422941508]\n",
      "The selected indexes are [3, 4, 5, 6, 7, 8, 9, 10, 11, 20, 21, 42, 45, 46, 47, 48, 49, 50, 51, 52, 53, 54, 55, 56, 57, 58, 59, 97, 98, 99]\n",
      "[46.475601597836146 74.26507528204667]\n",
      "The selected indexes are [3, 4, 5, 6, 7, 8, 9, 10, 11, 12, 13, 14, 20, 21, 23, 27, 41, 42, 43, 44, 45, 46, 47, 48, 49, 50, 51, 52, 56, 57, 97, 98, 99]\n",
      "[50.817709069502975 78.60718275371352]\n",
      "The selected indexes are [4, 5, 6, 7, 8, 9, 10, 11, 12, 13, 14, 15, 20, 21, 22, 23, 25, 26, 27, 33, 34, 35, 41, 42, 43, 44, 45, 46, 47, 48, 49, 50, 51]\n",
      "[55.15981433266088 82.9492880168714]\n",
      "The selected indexes are [10, 11, 12, 13, 14, 15, 16, 17, 18, 19, 20, 21, 22, 23, 24, 25, 26, 27, 28, 33, 34, 35, 36, 40, 41, 42, 43, 44, 45, 46, 47]\n",
      "[62.39665643792404 90.18613012213457]\n",
      "The selected indexes are [11, 12, 13, 14, 15, 16, 17, 18, 19, 20, 21, 22, 23, 24, 25, 26, 27, 28, 33, 34, 35, 36, 39, 40, 41, 42, 43, 44, 45, 46, 47]\n",
      "[63.84402485897666 91.63349854318719]\n",
      "[64.1334985431872 91.92297222739771]\n",
      "[63.84402485897666 91.63349854318719]\n",
      "The selected indexes are [4, 6, 7, 8, 9, 10, 11, 12, 13, 14, 15, 19, 20, 21, 22, 23, 24, 25, 26, 27, 28, 33, 34, 35, 40, 41, 42, 43, 44, 45, 46, 47, 48, 49]\n",
      "[59.21244591160824 87.00191959581879]\n",
      "The selected indexes are [3, 4, 5, 6, 7, 8, 9, 10, 11, 12, 20, 21, 23, 42, 45, 46, 47, 48, 49, 50, 51, 52, 53, 54, 55, 56, 57, 58, 97, 98, 99]\n",
      "[47.63349633467825 75.42297001888878]\n",
      "The selected indexes are [2, 3, 4, 5, 6, 7, 8, 9, 10, 46, 48, 49, 50, 51, 52, 53, 54, 55, 56, 57, 58, 59, 60, 61, 95, 96, 97, 98, 99]\n",
      "[38.659812124151934 66.44928580836246]\n",
      "The selected indexes are [2, 3, 4, 5, 6, 7, 8, 9, 48, 49, 50, 51, 52, 53, 54, 55, 56, 57, 58, 59, 60, 61, 62, 93, 94, 95, 96, 97, 98, 99]\n",
      "[34.89665422941509 62.68612791362562]\n",
      "The selected indexes are [2, 3, 4, 5, 6, 7, 8, 9, 10, 48, 49, 50, 51, 52, 53, 54, 55, 56, 57, 58, 59, 60, 61, 62, 93, 94, 95, 96, 97, 98, 99]\n"
     ]
    },
    {
     "name": "stdout",
     "output_type": "stream",
     "text": [
      "[35.475601597836146 63.26507528204668]\n",
      "The selected indexes are [2, 3, 4, 5, 6, 7, 8, 9, 10, 46, 48, 49, 50, 51, 52, 53, 54, 55, 56, 57, 58, 59, 60, 61, 95, 96, 97, 98, 99]\n",
      "[38.94928580836246 66.738759492573]\n",
      "The selected indexes are [4, 6, 7, 8, 9, 10, 11, 12, 13, 14, 15, 19, 20, 21, 22, 23, 25, 26, 27, 33, 34, 35, 40, 41, 42, 43, 44, 45, 46, 47, 48, 49]\n",
      "[58.344024858976674 86.13349854318719]\n",
      "The selected indexes are [4, 6, 7, 8, 9, 10, 11, 12, 13, 14, 15, 17, 19, 20, 21, 22, 23, 24, 25, 26, 27, 28, 33, 34, 35, 36, 40, 41, 42, 43, 44, 45, 46, 47, 48, 49]\n",
      "[60.080866964239824 87.87034064845035]\n",
      "The selected indexes are None\n",
      "The selected indexes are []\n",
      "[48.00974363439223 48.203861281451054]\n",
      "The selected indexes are [49, 50]\n",
      "[48.00974363439223 50.72738773121553]\n",
      "The selected indexes are [49, 50, 51, 52, 53]\n",
      "[48.00974363439223 53.25091714298024]\n",
      "The selected indexes are [49, 50, 51, 52, 53, 54, 55]\n",
      "[48.00974363439223 55.58032890768612]\n",
      "The selected indexes are [49, 50, 51, 52, 53, 54, 55, 56, 57, 58, 59]\n",
      "[48.00974363439223 59.074446554744945]\n",
      "The selected indexes are [49, 50, 51, 52, 53, 54, 55, 56, 57, 58, 59, 60, 61]\n",
      "[48.00974363439223 61.015623025333184]\n",
      "[48.00974363439223 61.792093613568476]\n",
      "The selected indexes are [49, 50, 51, 52, 53, 54, 55, 56, 57, 58, 59, 60, 61, 62]\n",
      "[48.00974363439223 62.18032890768612]\n",
      "[48.39797892850988 62.56856420180377]\n",
      "The selected indexes are [52, 53, 54, 55, 56, 57, 58, 59, 60, 61, 62, 63, 64, 65]\n",
      "[51.50386128145106 65.67444655474495]\n",
      "The selected indexes are [54, 55, 56, 57, 58, 59, 60, 61, 62, 63, 64, 65, 66, 67]\n",
      "[53.639155399098115 67.80974067239201]\n",
      "The selected indexes are [57, 58, 59, 60, 61, 62, 63, 64, 65, 66, 67, 68, 69, 70]\n",
      "[56.16268481086282 70.33327008415671]\n",
      "The selected indexes are [59, 60, 61, 62, 63, 64, 65, 66, 67, 68, 69, 70, 71, 72]\n",
      "[58.10386128145105 72.27444655474494]\n",
      "The selected indexes are [62, 63, 64, 65, 66, 67, 68, 69, 70, 71, 72, 73, 74, 75]\n",
      "[61.209743634392225 75.38032890768612]\n",
      "The selected indexes are [64, 65, 66, 67, 68, 69, 70, 71, 72, 73, 74, 75, 76, 77]\n",
      "[63.73327304615693 77.90385831945082]\n",
      "The selected indexes are [66, 67, 68, 69, 70, 71, 72, 73, 74, 75, 76, 77, 78, 79]\n",
      "[65.67444951674517 79.84503479003907]\n",
      "The selected indexes are [68, 69, 70, 71, 72, 73, 74, 75, 76, 77, 78, 79, 80, 81]\n",
      "[67.80974363439222 81.98032890768613]\n",
      "The selected indexes are [70, 71, 72, 73, 74, 75, 76, 77, 78, 79, 80, 81, 82, 83]\n",
      "[69.168567163804 83.3391524370979]\n",
      "[69.75092010498047 83.92150537827436]\n",
      "The selected indexes are [71, 72, 73, 74, 75, 76, 77, 78, 79, 80, 81, 82, 83, 84]\n",
      "[70.13915539909812 84.309740672392]\n",
      "The selected indexes are [72, 73, 74, 75, 76, 77, 78, 79, 80, 81, 82, 83, 84, 85]\n",
      "[71.49797892850988 85.66856420180378]\n",
      "The selected indexes are [74, 75, 76, 77, 78, 79, 80, 81, 82, 83, 84, 85, 86, 87]\n",
      "[73.2450377520393 87.41562302533318]\n",
      "The selected indexes are [75, 76, 77, 78, 79, 80, 81, 82, 83, 84, 85, 86, 87, 88]\n",
      "[74.0215083402746 88.19209361356847]\n",
      "[74.79797892850989 88.96856420180376]\n",
      "[74.60386128145106 88.77444655474494]\n",
      "The selected indexes are [74, 75, 76, 77, 78, 79, 80, 81, 82, 83, 84, 85, 86, 87]\n",
      "[73.2450377520393 87.41562302533318]\n",
      "The selected indexes are [67, 68, 69, 70, 71, 72, 73, 74, 75, 76, 77, 78, 79, 80]\n",
      "[66.06268481086282 80.23327008415671]\n",
      "The selected indexes are [61, 62, 63, 64, 65, 66, 67, 68, 69, 70, 71, 72, 73, 74]\n",
      "[60.82150834027458 74.99209361356847]\n",
      "The selected indexes are [60, 61, 62, 63, 64, 65, 66, 67, 68, 69, 70, 71, 72, 73]\n",
      "[59.268567163804 73.43915243709787]\n",
      "The selected indexes are [59, 60, 61, 62, 63, 64, 65, 66, 67, 68, 69, 70, 71, 72]\n",
      "[58.29797892850987 72.46856420180377]\n",
      "The selected indexes are [56, 57, 58, 59, 60, 61, 62, 63, 64, 65, 66, 67, 68, 69]\n",
      "[55.38621422262752 69.55679949592142]\n",
      "The selected indexes are [54, 55, 56, 57, 58, 59, 60, 61, 62, 63, 64, 65, 66, 67]\n",
      "[53.25092010498047 67.42150537827436]\n",
      "The selected indexes are [52, 53, 54, 55, 56, 57, 58, 59, 60, 61, 62, 63, 64, 65]\n",
      "[51.11562598733341 65.2862112606273]\n",
      "The selected indexes are [47, 48, 49, 50, 51, 52, 53, 54, 55, 56, 57, 58, 59, 60]\n",
      "[46.650920104980464 60.82150537827435]\n",
      "The selected indexes are [45, 46, 47, 48, 49, 50, 51, 52, 53, 54, 55, 56, 57, 58]\n",
      "[44.51562598733341 58.6862112606273]\n",
      "The selected indexes are [41, 42, 43, 44, 45, 46, 47, 48, 49, 50, 51, 52, 53, 54]\n",
      "[40.82739365521599 54.99797892850987]\n",
      "The selected indexes are [39, 40, 41, 42, 43, 44, 45, 46, 47, 48, 49, 50, 51, 52, 53]\n",
      "[38.88621718462775 53.05680245792164]\n",
      "The selected indexes are [37, 38, 39, 40, 41, 42, 43, 44, 45, 46, 47, 48, 49, 50]\n",
      "[36.55680541992188 50.72739069321576]\n",
      "The selected indexes are [35, 36, 37, 38, 39, 40, 41, 42, 43, 44, 45, 46, 47, 48]\n",
      "[34.61562894933364 48.78621422262753]\n",
      "The selected indexes are [33, 34, 35, 36, 37, 38, 39, 40, 41, 42, 43, 44, 45, 46]\n",
      "[32.480334831686584 46.650920104980464]\n",
      "The selected indexes are [32, 33, 34, 35, 36, 37, 38, 39, 40, 41, 42, 43, 44, 45]\n",
      "[31.315628949333636 45.486214222627524]\n",
      "The selected indexes are [31, 32, 33, 34, 35, 36, 37, 38, 39, 40, 41, 42, 43, 44, 45]\n",
      "[30.92739365521599 45.097978928509875]\n",
      "The selected indexes are None\n",
      "The selected indexes are [51]\n",
      "[57.57209577058491 57.861569454795436]\n",
      "The selected indexes are [5, 50, 51]\n",
      "[54.96683261269017 57.861569454795436]\n",
      "The selected indexes are [5, 50, 51, 52, 99]\n",
      "[52.65104313900597 57.861569454795436]\n",
      "The selected indexes are [3, 5, 50, 51, 52, 55, 56, 57, 97, 98, 99]\n",
      "[50.62472734953228 57.861569454795436]\n",
      "The selected indexes are [3, 5, 50, 51, 52, 55, 56, 57, 58, 97, 98, 99]\n",
      "[48.598411560058594 57.861569454795436]\n",
      "The selected indexes are [3, 5, 50, 51, 52, 53, 54, 55, 56, 57, 58, 59, 97, 98, 99]\n",
      "[45.703674717953334 57.861569454795436]\n",
      "[43.67735892847965 57.861569454795436]\n",
      "The selected indexes are [3, 5, 50, 51, 52, 53, 54, 55, 56, 57, 58, 59, 60, 97, 98, 99]\n",
      "[42.51946419163754 57.861569454795436]\n",
      "The selected indexes are [3, 5, 50, 51, 52, 53, 54, 55, 56, 57, 58, 59, 60, 61, 95, 96, 97, 98, 99]\n",
      "[41.07209577058491 57.861569454795436]\n",
      "[39.62472734953228 57.861569454795436]\n",
      "The selected indexes are [2, 3, 5, 50, 51, 52, 53, 54, 55, 56, 57, 58, 59, 60, 61, 94, 95, 96, 97, 98, 99]\n",
      "[38.17735892847965 57.861569454795436]\n",
      "The selected indexes are [2, 3, 5, 50, 51, 52, 53, 54, 55, 56, 57, 58, 59, 60, 61, 62, 94, 95, 96, 97, 98, 99]\n",
      "[37.019464191637546 57.861569454795436]\n",
      "The selected indexes are [2, 3, 5, 50, 51, 52, 53, 54, 55, 56, 57, 58, 59, 60, 61, 62, 93, 94, 95, 96, 97, 98, 99]\n",
      "[35.57209577058491 57.861569454795436]\n",
      "The selected indexes are [1, 2, 3, 5, 50, 51, 52, 53, 54, 55, 56, 57, 58, 59, 60, 61, 62, 93, 94, 95, 96, 97, 98, 99]\n",
      "[33.83525366532175 57.861569454795436]\n",
      "[32.098411560058594 57.861569454795436]\n",
      "The selected indexes are [0, 1, 2, 3, 5, 50, 51, 52, 53, 54, 55, 56, 57, 58, 59, 60, 61, 62, 93, 94, 95, 96, 97, 98, 99]\n",
      "[31.51946419163754 57.861569454795436]\n",
      "The selected indexes are [1, 2, 3, 5, 50, 51, 52, 53, 54, 55, 56, 57, 58, 59, 60, 61, 62, 93, 94, 95, 96, 97, 98, 99]\n",
      "[31.808937875848066 58.151043139005964]\n",
      "The selected indexes are [2, 3, 5, 7, 8, 49, 50, 51, 52, 53, 54, 55, 56, 57, 58, 59, 60, 61, 62, 93, 94, 95, 96, 97, 98, 99]\n",
      "[34.703674717953334 61.04577998111123]\n",
      "The selected indexes are [2, 3, 4, 5, 6, 7, 8, 9, 10, 48, 49, 50, 51, 52, 53, 54, 55, 56, 57, 58, 59, 60, 61, 94, 95, 96, 97, 98, 99]\n",
      "[37.308937875848066 63.651043139005964]\n",
      "The selected indexes are [3, 4, 5, 6, 7, 8, 9, 10, 42, 46, 48, 49, 50, 51, 52, 53, 54, 55, 56, 57, 58, 59, 60, 97, 98, 99]\n",
      "[43.38788524426912 69.72999050742702]\n",
      "The selected indexes are [3, 4, 5, 6, 7, 8, 9, 10, 11, 20, 42, 45, 46, 47, 48, 49, 50, 51, 52, 53, 54, 55, 56, 57, 58, 97, 98, 99]\n",
      "[47.44051682321649 73.78262208637437]\n",
      "The selected indexes are [3, 4, 5, 6, 7, 8, 9, 10, 11, 20, 21, 23, 42, 45, 46, 47, 48, 49, 50, 51, 52, 55, 56, 57, 58, 97, 98, 99]\n",
      "[48.88788524426912 75.229990507427]\n",
      "The selected indexes are [3, 4, 5, 6, 7, 8, 9, 10, 11, 12, 20, 21, 23, 42, 44, 45, 46, 47, 48, 49, 50, 51, 52, 55, 56, 57, 58, 97, 98, 99]\n",
      "[49.17735892847965 75.51946419163755]\n",
      "The selected indexes are [3, 4, 5, 6, 7, 8, 9, 10, 11, 12, 13, 20, 21, 23, 42, 44, 45, 46, 47, 48, 49, 50, 51, 52, 55, 56, 57, 97, 98, 99]\n",
      "[49.7563062969007 76.09841156005861]\n",
      "The selected indexes are [3, 4, 5, 6, 7, 8, 9, 10, 11, 12, 13, 20, 21, 23, 41, 42, 44, 45, 46, 47, 48, 49, 50, 51, 52, 57, 97, 98, 99]\n"
     ]
    },
    {
     "name": "stdout",
     "output_type": "stream",
     "text": [
      "[51.203674717953334 77.54577998111122]\n",
      "The selected indexes are [4, 5, 6, 7, 8, 9, 10, 11, 12, 13, 14, 20, 21, 22, 23, 27, 41, 42, 43, 44, 45, 46, 47, 48, 49, 50, 51, 52, 99]\n",
      "[52.65104313900597 78.99314840216387]\n",
      "The selected indexes are [4, 5, 6, 7, 8, 9, 10, 11, 12, 13, 14, 20, 21, 22, 23, 25, 26, 27, 34, 41, 42, 43, 44, 45, 46, 47, 48, 49, 50, 51, 52, 99]\n",
      "[53.808937875848066 80.15104313900596]\n",
      "The selected indexes are [4, 5, 6, 7, 8, 9, 10, 11, 12, 13, 14, 20, 21, 22, 23, 25, 26, 27, 41, 42, 43, 44, 45, 46, 47, 48, 49, 50, 51, 52, 99]\n",
      "[53.229990507427026 79.57209577058492]\n",
      "The selected indexes are [4, 5, 6, 7, 8, 9, 10, 11, 12, 13, 20, 21, 23, 41, 42, 44, 45, 46, 47, 48, 49, 50, 51, 52, 57, 97, 98, 99]\n",
      "[51.49314840216386 77.83525366532174]\n",
      "The selected indexes are [3, 4, 5, 6, 7, 8, 9, 10, 11, 20, 42, 46, 47, 48, 49, 50, 51, 52, 53, 54, 55, 56, 57, 58, 59, 97, 98, 99]\n",
      "[45.12472734953228 71.46683261269017]\n",
      "The selected indexes are [3, 4, 5, 6, 7, 8, 9, 10, 48, 49, 50, 51, 52, 53, 54, 55, 56, 57, 58, 59, 60, 61, 95, 96, 97, 98, 99]\n",
      "[39.33525366532175 65.67735892847965]\n",
      "The selected indexes are [2, 3, 4, 5, 6, 7, 8, 9, 48, 49, 50, 51, 52, 53, 54, 55, 56, 57, 58, 59, 60, 61, 62, 94, 95, 96, 97, 98, 99]\n",
      "[36.44051682321649 62.78262208637439]\n",
      "The selected indexes are [1, 2, 3, 5, 50, 51, 52, 53, 54, 55, 56, 57, 58, 59, 60, 61, 62, 93, 94, 95, 96, 97, 98, 99]\n",
      "[33.545779981111224 59.88788524426912]\n",
      "The selected indexes are [0, 1, 2, 3, 50, 52, 53, 54, 55, 56, 57, 58, 59, 60, 61, 62, 91, 92, 93, 94, 95, 96, 97, 98, 99]\n",
      "[29.493148402163857 55.83525366532175]\n",
      "The selected indexes are [0, 1, 2, 53, 54, 55, 56, 58, 59, 60, 61, 62, 63, 64, 65, 72, 86, 87, 89, 91, 92, 93, 94, 95, 96]\n",
      "[24.861569454795436 51.203674717953334]\n",
      "The selected indexes are [0, 1, 2, 53, 54, 59, 60, 61, 62, 63, 64, 65, 72, 86, 87, 89, 90, 91, 92, 93, 94, 95, 96]\n",
      "[22.2563062969007 48.598411560058594]\n",
      "The selected indexes are [0, 1, 2, 60, 61, 62, 63, 64, 65, 67, 70, 71, 72, 73, 74, 85, 86, 87, 88, 89, 90, 91, 92, 93, 94, 95, 96]\n",
      "[19.07209577058491 45.414201033742806]\n",
      "The selected indexes are [0, 1, 2, 61, 62, 63, 64, 65, 66, 67, 70, 71, 72, 73, 74, 75, 85, 86, 87, 88, 89, 90, 91, 92, 93, 94, 95, 96]\n",
      "[16.7563062969007 43.098411560058594]\n",
      "The selected indexes are [0, 1, 2, 62, 63, 64, 65, 66, 67, 68, 69, 70, 71, 72, 73, 74, 75, 85, 86, 87, 88, 89, 90, 91, 92, 93, 94]\n",
      "[14.440512406198604 40.7826176693565]\n",
      "The selected indexes are [0, 1, 62, 63, 64, 65, 66, 67, 68, 69, 70, 71, 72, 73, 74, 75, 76, 85, 86, 87, 88, 89, 90, 91, 92, 93, 94]\n",
      "[12.703670300935444 39.04577556409334]\n",
      "The selected indexes are [0, 1, 62, 63, 64, 65, 66, 67, 68, 69, 70, 71, 72, 73, 74, 75, 76, 85, 86, 87, 88, 89, 90, 91, 92, 93]\n",
      "[11.256301879882812 37.5984071430407]\n",
      "The selected indexes are [0, 1, 63, 64, 65, 66, 67, 68, 69, 70, 71, 72, 73, 74, 75, 76, 85, 86, 87, 88, 89, 90, 91, 92, 93]\n",
      "[10.67735451146176 37.01945977461966]\n",
      "The selected indexes are [0, 1, 63, 64, 65, 66, 67, 68, 69, 70, 71, 72, 73, 74, 75, 76, 77, 82, 84, 85, 86, 87, 88, 89, 90, 91, 92]\n",
      "[9.22998609040913 35.57209135356702]\n",
      "The selected indexes are [0, 1, 63, 64, 65, 66, 67, 68, 69, 70, 71, 72, 73, 74, 75, 76, 77, 78, 79, 82, 84, 85, 86, 87, 88, 89, 90, 91, 92]\n",
      "[8.072091353567025 34.414196616724915]\n",
      "[7.7826176693564975 34.12472293251439]\n",
      "[8.072091353567025 34.414196616724915]\n",
      "The selected indexes are [0, 1, 63, 64, 65, 66, 67, 68, 69, 70, 71, 72, 73, 74, 75, 76, 77, 82, 84, 85, 86, 87, 88, 89, 90, 91, 92]\n",
      "[9.22998609040913 35.57209135356702]\n",
      "The selected indexes are [0, 1, 62, 63, 64, 65, 66, 67, 68, 69, 70, 71, 72, 73, 74, 75, 76, 85, 86, 87, 88, 89, 90, 91, 92, 93, 94]\n",
      "[12.124722932514391 38.46682819567229]\n",
      "The selected indexes are [0, 1, 2, 60, 61, 62, 63, 64, 65, 67, 70, 71, 72, 73, 74, 85, 86, 87, 88, 89, 90, 91, 92, 93, 94, 95, 96]\n",
      "[18.20367471795333 44.545779981111224]\n",
      "The selected indexes are [0, 1, 2, 3, 53, 54, 55, 56, 58, 59, 60, 61, 62, 63, 64, 65, 72, 86, 91, 92, 93, 94, 95, 96, 97]\n",
      "[26.019464191637546 52.36156945479543]\n",
      "The selected indexes are [0, 1, 2, 3, 53, 54, 55, 56, 57, 58, 59, 60, 61, 62, 63, 64, 91, 92, 93, 94, 95, 96, 97, 98]\n",
      "[27.177358928479645 53.519464191637546]\n",
      "The selected indexes are [0, 1, 2, 3, 53, 54, 55, 56, 57, 58, 59, 60, 61, 62, 64, 91, 92, 93, 94, 95, 96, 97, 98]\n",
      "[28.045779981111227 54.38788524426912]\n",
      "The selected indexes are [0, 1, 2, 3, 52, 53, 54, 55, 56, 57, 58, 59, 60, 61, 62, 64, 91, 92, 93, 94, 95, 96, 97, 98, 99]\n",
      "[28.62472734953228 54.96683261269017]\n",
      "The selected indexes are [0, 1, 2, 3, 5, 50, 52, 53, 54, 55, 56, 57, 58, 59, 60, 61, 62, 92, 93, 94, 95, 96, 97, 98, 99]\n",
      "[30.072095770584912 56.41420103374281]\n",
      "The selected indexes are [2, 3, 5, 8, 49, 50, 51, 52, 53, 54, 55, 56, 57, 58, 59, 60, 61, 62, 93, 94, 95, 96, 97, 98, 99]\n",
      "[34.12472734953228 60.466832612690176]\n",
      "The selected indexes are [2, 3, 4, 5, 6, 7, 8, 48, 49, 50, 51, 52, 53, 54, 55, 56, 57, 58, 59, 60, 61, 62, 93, 94, 95, 96, 97, 98, 99]\n",
      "[35.861569454795436 62.20367471795333]\n",
      "The selected indexes are [3, 4, 5, 6, 7, 8, 9, 10, 48, 49, 50, 51, 52, 53, 54, 55, 56, 57, 58, 59, 60, 61, 95, 96, 97, 98, 99]\n",
      "[39.62472734953228 65.96683261269017]\n",
      "The selected indexes are [3, 4, 5, 6, 7, 8, 9, 10, 42, 46, 48, 49, 50, 51, 52, 53, 54, 55, 56, 57, 58, 59, 60, 95, 96, 97, 98, 99]\n",
      "[41.94051682321649 68.28262208637439]\n",
      "The selected indexes are [3, 4, 5, 6, 7, 8, 9, 10, 11, 20, 42, 46, 47, 48, 49, 50, 51, 52, 53, 54, 55, 56, 57, 58, 59, 97, 98, 99]\n",
      "[45.703674717953334 72.04577998111122]\n",
      "The selected indexes are [3, 4, 5, 6, 7, 8, 9, 10, 11, 12, 20, 21, 23, 42, 44, 45, 46, 47, 48, 49, 50, 51, 52, 55, 56, 57, 97, 98, 99]\n",
      "[49.466832612690176 75.80893787584807]\n",
      "The selected indexes are [4, 5, 6, 7, 8, 9, 10, 11, 12, 13, 20, 21, 23, 41, 42, 44, 45, 46, 47, 48, 49, 50, 51, 52, 57, 97, 98, 99]\n",
      "[51.49314840216386 77.83525366532174]\n",
      "The selected indexes are [4, 5, 6, 7, 8, 9, 10, 11, 12, 13, 14, 20, 21, 22, 23, 27, 41, 42, 43, 44, 45, 46, 47, 48, 49, 50, 51, 52, 57, 98, 99]\n",
      "[52.36156945479543 78.70367471795333]\n",
      "The selected indexes are [4, 5, 6, 7, 8, 9, 10, 11, 12, 13, 14, 20, 21, 23, 27, 41, 42, 43, 44, 45, 46, 47, 48, 49, 50, 51, 52, 57, 98, 99]\n",
      "[52.07209577058491 78.4142010337428]\n",
      "The selected indexes are [3, 4, 5, 6, 7, 8, 9, 10, 11, 20, 21, 42, 45, 46, 47, 48, 49, 50, 51, 52, 53, 54, 55, 56, 57, 58, 97, 98, 99]\n",
      "[48.019464191637546 74.36156945479543]\n",
      "The selected indexes are [3, 4, 5, 6, 7, 8, 9, 10, 42, 46, 48, 49, 50, 51, 52, 53, 54, 55, 56, 57, 58, 59, 60, 97, 98, 99]\n",
      "[42.51946419163754 68.86156945479543]\n",
      "The selected indexes are [2, 3, 4, 5, 6, 7, 8, 9, 10, 48, 49, 50, 51, 52, 53, 54, 55, 56, 57, 58, 59, 60, 61, 94, 95, 96, 97, 98, 99]\n",
      "[37.308937875848066 63.651043139005964]\n",
      "The selected indexes are [1, 2, 3, 5, 50, 51, 52, 53, 54, 55, 56, 57, 58, 59, 60, 61, 62, 93, 94, 95, 96, 97, 98, 99]\n",
      "[31.808937875848066 58.151043139005964]\n",
      "The selected indexes are [0, 1, 2, 3, 5, 50, 52, 53, 54, 55, 56, 57, 58, 59, 60, 61, 62, 93, 94, 95, 96, 97, 98, 99]\n",
      "[30.940516823216495 57.28262208637439]\n",
      "The selected indexes are [0, 1, 2, 3, 5, 50, 52, 53, 54, 55, 56, 57, 58, 59, 60, 61, 62, 92, 93, 94, 95, 96, 97, 98, 99]\n",
      "[30.651043139005967 56.99314840216386]\n",
      "The selected indexes are None\n"
     ]
    }
   ],
   "source": [
    "fig = plt.figure(title='Scatter plot with selection')\n",
    "scatter_plot = plt.scatter(x_data, y_data, interactions={'click': 'select'})\n",
    "\n",
    "fig"
   ]
  },
  {
   "cell_type": "code",
   "execution_count": 48,
   "metadata": {
    "collapsed": true
   },
   "outputs": [],
   "source": [
    "scatter_plot.unselected_style={'opacity': 0.4}\n",
    "scatter_plot.selected_style={'fill': 'red', 'stroke': 'yellow', 'width': '1125px', 'height': '125px'}"
   ]
  },
  {
   "cell_type": "markdown",
   "metadata": {},
   "source": [
    "`selected` is a trait. So we can always observe it."
   ]
  },
  {
   "cell_type": "code",
   "execution_count": 49,
   "metadata": {
    "collapsed": true
   },
   "outputs": [],
   "source": [
    "def observe_selected(change):\n",
    "    print('The selected indexes are {}'.format(scatter_plot.selected))\n",
    "\n",
    "scatter_plot.observe(observe_selected, 'selected')"
   ]
  },
  {
   "cell_type": "markdown",
   "metadata": {},
   "source": [
    "`selected` can also be set using `Selectors`."
   ]
  },
  {
   "cell_type": "code",
   "execution_count": 54,
   "metadata": {
    "collapsed": true
   },
   "outputs": [],
   "source": [
    "def selector_call_back(name, value):\n",
    "    print(str(value))"
   ]
  },
  {
   "cell_type": "code",
   "execution_count": 55,
   "metadata": {},
   "outputs": [],
   "source": [
    "# adding a brush selector on the x-axis. When the brush selector changes, the selector_call_back function is called\n",
    "_ = plt.brush_int_selector(selector_call_back)"
   ]
  },
  {
   "cell_type": "code",
   "execution_count": 56,
   "metadata": {
    "collapsed": true
   },
   "outputs": [],
   "source": [
    "# adding a brush selector on the y-axis\n",
    "_ = plt.brush_int_selector(selector_call_back, orientation='vertical')"
   ]
  },
  {
   "cell_type": "markdown",
   "metadata": {},
   "source": [
    "## Mixing bqplot with ipywidgets"
   ]
  },
  {
   "cell_type": "markdown",
   "metadata": {},
   "source": [
    "The entire framework for bqplot is based on `d3js` (on the JavaScript side) and on the [ipywidgets](www.github.com/ipywidgets) framework. This means that integrating it with native Jupyter widgets is a seamless experience. As is integrating it with other widget based libraries, such as:\n",
    "\n",
    "- ipyleaflet\n",
    "- ipyvolume\n",
    "- pythreejs"
   ]
  },
  {
   "cell_type": "code",
   "execution_count": 57,
   "metadata": {
    "collapsed": true
   },
   "outputs": [],
   "source": [
    "from sklearn.linear_model import LinearRegression"
   ]
  },
  {
   "cell_type": "code",
   "execution_count": 58,
   "metadata": {
    "collapsed": true
   },
   "outputs": [],
   "source": [
    "## Let's generate some noisy data\n",
    "\n",
    "x_lin = np.linspace(0, 1, 15)\n",
    "y_lin = 1.1 * x_lin + .3 * np.random.randn(x_lin.shape[0])"
   ]
  },
  {
   "cell_type": "code",
   "execution_count": 59,
   "metadata": {
    "collapsed": true
   },
   "outputs": [],
   "source": [
    "## Fitting a linear regression to this model\n",
    "\n",
    "lin_reg = LinearRegression()\n",
    "_ = lin_reg.fit(x_lin[:, np.newaxis], y_lin)"
   ]
  },
  {
   "cell_type": "code",
   "execution_count": 60,
   "metadata": {},
   "outputs": [
    {
     "name": "stderr",
     "output_type": "stream",
     "text": [
      "d:\\code\\open source\\bqplot\\bqplot\\pyplot.py:636: FutureWarning: Conversion of the second argument of issubdtype from `str` to `str` is deprecated. In future, it will be treated as `np.str_ == np.dtype(str).type`.\n",
      "  issubdtype(dtype, Scale.scale_types[key].dtype)\n"
     ]
    }
   ],
   "source": [
    "scat_fig = plt.figure(title='Linear Regression')\n",
    "scat = plt.scatter(x_lin, y_lin, enable_move=True, restrict_y=True)\n",
    "reg_line = plt.plot(x_lin, lin_reg.predict(x_lin[:, np.newaxis]), colors=['Red'])"
   ]
  },
  {
   "cell_type": "markdown",
   "metadata": {},
   "source": [
    "## Everytime a point is moved, we recalibrate the model"
   ]
  },
  {
   "cell_type": "code",
   "execution_count": 61,
   "metadata": {
    "collapsed": true
   },
   "outputs": [],
   "source": [
    "def point_moved(change):\n",
    "    lin_reg = LinearRegression()\n",
    "    lin_reg.fit(x_lin[:, np.newaxis], scat.y)\n",
    "    reg_line.y = lin_reg.predict(x_lin[:, np.newaxis])\n",
    "    \n",
    "scat.observe(point_moved, 'y')"
   ]
  },
  {
   "cell_type": "code",
   "execution_count": 62,
   "metadata": {
    "scrolled": false
   },
   "outputs": [
    {
     "data": {
      "application/vnd.jupyter.widget-view+json": {
       "model_id": "77abcba1c1a54157b6e7a99019742ca4",
       "version_major": 2,
       "version_minor": 0
      },
      "text/plain": [
       "A Jupyter Widget"
      ]
     },
     "metadata": {},
     "output_type": "display_data"
    }
   ],
   "source": [
    "scat_fig"
   ]
  },
  {
   "cell_type": "markdown",
   "metadata": {},
   "source": [
    "### Let's tie the line to a slider"
   ]
  },
  {
   "cell_type": "code",
   "execution_count": 63,
   "metadata": {
    "collapsed": true
   },
   "outputs": [],
   "source": [
    "from ipywidgets import IntSlider, VBox"
   ]
  },
  {
   "cell_type": "code",
   "execution_count": 64,
   "metadata": {
    "collapsed": true
   },
   "outputs": [],
   "source": [
    "x_test = np.linspace(-1., 1., 100)\n",
    "\n",
    "def update_regression(x_train, y_train, x_test, order):\n",
    "    y_test = np.zeros_like(x_test)\n",
    "    y_test = np.polyval(np.polyfit(x_train, y_train, order), x_test)\n",
    "    return y_test\n",
    "    \n",
    "def params_changed(change):\n",
    "    y_vals = update_regression(scat.x, scat.y, x_test, order_slider.value)\n",
    "    reg_line.y = y_vals"
   ]
  },
  {
   "cell_type": "code",
   "execution_count": 65,
   "metadata": {
    "collapsed": true
   },
   "outputs": [],
   "source": [
    "x_train = np.linspace(-0.8, 0.8, 10)\n",
    "y_train = 1.1 * (x_train ** 2) + .3 * np.random.randn(x_train.shape[0])"
   ]
  },
  {
   "cell_type": "code",
   "execution_count": 66,
   "metadata": {
    "scrolled": false
   },
   "outputs": [
    {
     "name": "stderr",
     "output_type": "stream",
     "text": [
      "d:\\code\\open source\\bqplot\\bqplot\\pyplot.py:636: FutureWarning: Conversion of the second argument of issubdtype from `str` to `str` is deprecated. In future, it will be treated as `np.str_ == np.dtype(str).type`.\n",
      "  issubdtype(dtype, Scale.scale_types[key].dtype)\n"
     ]
    }
   ],
   "source": [
    "## slider to decide the order of the regression\n",
    "order_slider = IntSlider(description='Order', min=1, max=5, value=1)\n",
    "order_slider.observe(params_changed, 'value')\n",
    "\n",
    "scat_fig = plt.figure(title='Polynomial Regression', animation_duration=100)\n",
    "\n",
    "## click on the figure to add points to the scatter.\n",
    "## this shows how our model responds to new data.\n",
    "scat = plt.scatter(x_train, y_train, interactions={'click': 'add'})\n",
    "reg_line = plt.plot(x_test, update_regression(x_train, y_train, x_test, order_slider.value),\n",
    "                    colors=['Red'])\n",
    "scat.observe(params_changed, ['x', 'y'])"
   ]
  },
  {
   "cell_type": "code",
   "execution_count": 67,
   "metadata": {
    "scrolled": false
   },
   "outputs": [
    {
     "data": {
      "application/vnd.jupyter.widget-view+json": {
       "model_id": "1db4ab37a24c4722986528a3c5c2e5b8",
       "version_major": 2,
       "version_minor": 0
      },
      "text/plain": [
       "A Jupyter Widget"
      ]
     },
     "metadata": {},
     "output_type": "display_data"
    }
   ],
   "source": [
    "VBox([order_slider, scat_fig])"
   ]
  },
  {
   "cell_type": "code",
   "execution_count": null,
   "metadata": {
    "collapsed": true
   },
   "outputs": [],
   "source": []
  }
 ],
 "metadata": {
  "kernelspec": {
   "display_name": "Python 3",
   "language": "python",
   "name": "python3"
  },
  "language_info": {
   "codemirror_mode": {
    "name": "ipython",
    "version": 3
   },
   "file_extension": ".py",
   "mimetype": "text/x-python",
   "name": "python",
   "nbconvert_exporter": "python",
   "pygments_lexer": "ipython3",
   "version": "3.6.3"
  }
 },
 "nbformat": 4,
 "nbformat_minor": 2
}
