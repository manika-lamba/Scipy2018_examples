{
 "cells": [
  {
   "cell_type": "markdown",
   "metadata": {},
   "source": [
    "In this example we will look at an animation of K-Means clustering using `bqplot` and `ipywidgets`. The UI provides the following controls:\n",
    "* Slider for choosing the number of points (n)\n",
    "* Slider for choosing the number of clusters (K)\n",
    "* Slider for choosing the cluster standard deviation\n",
    "\n",
    "Upon clicking the 'GO' button the animation is started.\n",
    "\n",
    "Note that the initialization of cluster centroids is done in a 'random' fashion. Sometimes the alogorithm gets stuck in a local minimum"
   ]
  },
  {
   "cell_type": "code",
   "execution_count": 1,
   "metadata": {
    "collapsed": true
   },
   "outputs": [],
   "source": [
    "from time import sleep\n",
    "\n",
    "import numpy as np\n",
    "from sklearn.datasets import make_blobs\n",
    "\n",
    "from ipywidgets import *\n",
    "\n",
    "from bqplot import OrdinalColorScale, CATEGORY10\n",
    "import bqplot.pyplot as plt"
   ]
  },
  {
   "cell_type": "code",
   "execution_count": 2,
   "metadata": {},
   "outputs": [
    {
     "name": "stderr",
     "output_type": "stream",
     "text": [
      "d:\\code\\open source\\bqplot\\bqplot\\pyplot.py:636: FutureWarning: Conversion of the second argument of issubdtype from `str` to `str` is deprecated. In future, it will be treated as `np.str_ == np.dtype(str).type`.\n",
      "  issubdtype(dtype, Scale.scale_types[key].dtype)\n"
     ]
    },
    {
     "data": {
      "application/vnd.jupyter.widget-view+json": {
       "model_id": "c090461f9b3d40a3a441ef851f0c524d",
       "version_major": 2,
       "version_minor": 0
      },
      "text/plain": [
       "A Jupyter Widget"
      ]
     },
     "metadata": {},
     "output_type": "display_data"
    }
   ],
   "source": [
    "n_slider = IntSlider(description='points', value=150, min=20, max=300, step=10)\n",
    "k_slider = IntSlider(description='K', value=3, min=2, max=10)\n",
    "cluster_std_slider = FloatSlider(description='cluster std', value=.8, min=.5, max=3)\n",
    "\n",
    "iter_label_tmpl = 'Iterations: {}'\n",
    "iter_label = Label(value=iter_label_tmpl.format(''))\n",
    "iter_label.layout.width = '300px'\n",
    "\n",
    "fig = plt.figure(title='K-means Clustering', animation_duration=1000)\n",
    "fig.layout.width = '800px'\n",
    "fig.layout.height = '700px'\n",
    "\n",
    "plt.scales(scales={'color': OrdinalColorScale(colors=CATEGORY10)})\n",
    "\n",
    "axes_options = {'x': {'label': 'X1'}, 'y': {'label': 'X2'}, 'color': {'visible': False}}\n",
    "\n",
    "# scatter of 2D features\n",
    "points_scat = plt.scatter([], [], color=[], stroke='black', axes_options=axes_options)\n",
    "\n",
    "# scatter of centroids\n",
    "centroid_scat = plt.scatter([], [], color=[], stroke_width=3, stroke='black',\n",
    "                            default_size=400, axes_options=axes_options)\n",
    "\n",
    "go_btn = Button(description='GO', button_style='success', layout=Layout(width='50px'))\n",
    "\n",
    "def clear():\n",
    "    # clear all\n",
    "    with points_scat.hold_sync():\n",
    "        points_scat.x = []\n",
    "        points_scat.color = []\n",
    "    \n",
    "    with centroid_scat.hold_sync():\n",
    "        centroid_scat.x = []\n",
    "        centroid_scat.color = []\n",
    "    \n",
    "    iter_label.value = iter_label_tmpl.format('')\n",
    "    \n",
    "def start_animation():\n",
    "    go_btn.disabled = True\n",
    "    clear()\n",
    "    \n",
    "    # get the values of parameters from sliders\n",
    "    n = n_slider.value\n",
    "    K = k_slider.value\n",
    "    \n",
    "    # 2D features made from K blobs\n",
    "    X, _ = make_blobs(n_samples=n, centers=K, cluster_std=cluster_std_slider.value)\n",
    "    np.random.shuffle(X)\n",
    "    \n",
    "    # plot the points on a scatter chart\n",
    "    with points_scat.hold_sync():\n",
    "        points_scat.x = X[:, 0]\n",
    "        points_scat.y = X[:, 1]\n",
    "    \n",
    "    # randomly pick K data points to be centroids\n",
    "    centroids = X[:K]\n",
    "    \n",
    "    i = 0\n",
    "    \n",
    "    # try for 20 iterations\n",
    "    # FIXME: algo simetimes converges to a local minimum!!\n",
    "    while i < 20:\n",
    "        iter_label.value = iter_label_tmpl.format(i + 1)\n",
    "        \n",
    "        with centroid_scat.hold_sync():\n",
    "            centroid_scat.x = centroids[:, 0]\n",
    "            centroid_scat.y = centroids[:, 1]\n",
    "            centroid_scat.color = np.arange(K)\n",
    "            \n",
    "        # assign clusters to points based on the closest centroid\n",
    "        clusters = np.argmin(np.linalg.norm(X.reshape(n, 1, 2) - centroids, axis=2), axis=1)\n",
    "        \n",
    "        # color code the points by their clusters\n",
    "        points_scat.color = clusters\n",
    "\n",
    "        # compute new centroids from the clusters\n",
    "        new_centroids = np.array([X[clusters == k].mean(axis=0) for k in range(K)])\n",
    "        \n",
    "        if np.all(centroids == new_centroids):\n",
    "            # if centroids don't change we are done\n",
    "            break\n",
    "        else: \n",
    "            # update the centroids and repeat\n",
    "            centroids = new_centroids\n",
    "            i = i + 1\n",
    "            sleep(1)\n",
    "            \n",
    "    go_btn.disabled = False\n",
    "\n",
    "go_btn.on_click(lambda btn: start_animation())\n",
    "\n",
    "controls_layout = VBox([n_slider, k_slider, cluster_std_slider, go_btn, iter_label])\n",
    "controls_layout.layout.margin = '60px 0px 0px 0px'\n",
    "\n",
    "HBox([VBox([fig]), controls_layout])"
   ]
  },
  {
   "cell_type": "code",
   "execution_count": null,
   "metadata": {
    "collapsed": true
   },
   "outputs": [],
   "source": []
  }
 ],
 "metadata": {
  "input_collapsed": false,
  "kernelspec": {
   "display_name": "Python 3",
   "language": "python",
   "name": "python3"
  },
  "language_info": {
   "codemirror_mode": {
    "name": "ipython",
    "version": 3
   },
   "file_extension": ".py",
   "mimetype": "text/x-python",
   "name": "python",
   "nbconvert_exporter": "python",
   "pygments_lexer": "ipython3",
   "version": "3.6.3"
  }
 },
 "nbformat": 4,
 "nbformat_minor": 2
}
