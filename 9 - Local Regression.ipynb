{
 "cells": [
  {
   "cell_type": "markdown",
   "metadata": {},
   "source": [
    "In this tutorial notebook we'll try to understand local regression using interactive visualizations. Users can interact with the plot as follows:\n",
    "\n",
    "* Update the kernel bandwith and polynomial order using sliders\n",
    "* The gaussian kernel plot updates in response to changes in the `bandwidth` parameter\n",
    "* The local regression plot updates in response to changes in the `bandwidth` and `order` parameters\n",
    "* New points can be added by clicking on the local regression plot (thereby updating the regression fit)\n",
    "* Existing points can be updated my moving them with the mouse on the local regression plot (thereby updating the regression fit)\n",
    "\n",
    "Fun things to try:\n",
    "* Change the  `bandwidth` parameter to understand its impact on the regression fit (low values tend to overfit whereas high values increase the bias)\n",
    "* Change the  `order` parameter to understand its impact on the regression fit (order 1 fixes linear bias in the dataset, order 2 fixes the convexity bias etc.)\n",
    "* Move the points in the scatter and see the impact of outliers and overfitting (small changes in points lead to complete flipping of the regresson curve)"
   ]
  },
  {
   "cell_type": "code",
   "execution_count": 1,
   "metadata": {
    "collapsed": true
   },
   "outputs": [],
   "source": [
    "import numpy as np\n",
    "\n",
    "from ipywidgets import *\n",
    "from bqplot import LinearScale\n",
    "import bqplot.pyplot as plt\n",
    "\n",
    "import warnings\n",
    "warnings.simplefilter('ignore')"
   ]
  },
  {
   "cell_type": "code",
   "execution_count": 2,
   "metadata": {
    "collapsed": true
   },
   "outputs": [],
   "source": [
    "def padded_val(x, eps=1e-3):\n",
    "    return np.ceil(x + eps) if x > 0 else np.floor(x - eps)\n",
    "\n",
    "def gaussian_kernel(x_train, x_test, bw=1.):\n",
    "    z = (x_train - x_test[:, np.newaxis]) / bw\n",
    "    return np.exp(-.5 * z ** 2)"
   ]
  },
  {
   "cell_type": "code",
   "execution_count": 3,
   "metadata": {
    "collapsed": true
   },
   "outputs": [],
   "source": [
    "def local_regression(x_train, y_train, x_test,\n",
    "                     kernel=gaussian_kernel, bw=1., order=0):\n",
    "    '''\n",
    "    computes local regression with weights coming from the kernel function\n",
    "    '''\n",
    "    # compute the weights using the kernel function\n",
    "    w = kernel(x_train, x_test, bw=bw)\n",
    "    \n",
    "    if order == 0: # weighted average\n",
    "        return np.dot(w, y_train) / np.sum(w, axis=1)\n",
    "    else: # weighted polyfit\n",
    "        y_test = np.empty_like(x_test)\n",
    "        for i, x0 in enumerate(x_test):\n",
    "            y_test[i] = np.polyval(np.polyfit(x_train, y_train, w=w[i], deg=order), x0)\n",
    "        return y_test"
   ]
  },
  {
   "cell_type": "code",
   "execution_count": 4,
   "metadata": {},
   "outputs": [
    {
     "data": {
      "application/vnd.jupyter.widget-view+json": {
       "model_id": "643a1ad39f7c4adaa6c97a717a60b096",
       "version_major": 2,
       "version_minor": 0
      },
      "text/plain": [
       "A Jupyter Widget"
      ]
     },
     "metadata": {},
     "output_type": "display_data"
    }
   ],
   "source": [
    "# generate some train/test data\n",
    "x_train = np.linspace(-5, 5, 100)\n",
    "y_train = x_train ** 2 + np.random.randn(100) * 5\n",
    "x_test = np.linspace(-10, 10, 200)\n",
    "\n",
    "x0, x1 = np.min(x_train), np.max(x_train)\n",
    "y0, y1 = np.min(y_train), np.max(y_train)\n",
    "    \n",
    "_, _, ymin, ymax = [padded_val(x) for x in (x0, x1, y0, y1)]\n",
    "\n",
    "axes_options = {'x': {'label': 'X'},\n",
    "                'y': {'tick_format': '0.0f', 'label': 'Y'}}\n",
    "\n",
    "reg_fig = plt.figure(animation_duration=1000)\n",
    "reg_fig.layout.width = '800px'\n",
    "reg_fig.layout.height = '550px'\n",
    "\n",
    "plt.scales(scales={'x': LinearScale(min=-8, max=8),\n",
    "                   'y': LinearScale(min=ymin, max=ymax)})\n",
    "\n",
    "scatter = plt.scatter(x_train, y_train, axes_options=axes_options,\n",
    "                      colors=['red'], enable_move=True, stroke='black',\n",
    "                      interactions = {'click': 'add'})\n",
    "\n",
    "reg_line = plt.plot(x_test, [], 'g', stroke_width=5, \n",
    "                    opacities=[.6], interpolation='basis')\n",
    "\n",
    "zero_line = plt.hline(level=0, colors=['white'], stroke_width=.6)\n",
    "\n",
    "kernel_fig = plt.figure(animation_duration=1000, title='Gaussian Kernel')\n",
    "kernel_fig.layout.width = '600px'\n",
    "kernel_fig.layout.height = '400px'\n",
    "plt.scales(scales={'y': LinearScale(min=0, max=1)})\n",
    "axes_options = {'x': {'num_ticks': 8, 'label': 'X'}, \n",
    "                'y': {'num_ticks': 8, 'tick_format': '.1f'}}\n",
    "kernel_line = plt.plot(x_train, [], 'm', axes_options=axes_options, interpolation='basis')\n",
    "\n",
    "# widgets for hyper params\n",
    "bw_slider = FloatSlider(description='Band Width', \n",
    "                        min=.1, max=10, step=.1, value=3,\n",
    "                        continuous_update=False,\n",
    "                        readout_format='.1f',\n",
    "                        layout=Layout(width='290px'))\n",
    "\n",
    "order_slider = IntSlider(description='Order',\n",
    "                         min=0, max=10, step=1, value=0,\n",
    "                         continuous_update=False,\n",
    "                         layout=Layout(width='300px'))\n",
    "\n",
    "reset_button = Button(description='Reset Points', button_style='success')\n",
    "reset_button.layout.margin = '0px 0px 0px 50px'\n",
    "\n",
    "sliders_layout = VBox([bw_slider, order_slider])\n",
    "sliders_layout.layout.margin = '60px 0px 0px 0px'\n",
    "\n",
    "def update_reg_line(change):\n",
    "    bw = bw_slider.value\n",
    "    order = order_slider.value\n",
    "    reg_fig.title = 'Local regression(bw={}, polynomial_order={})'.format(bw, order)\n",
    "    try:\n",
    "        reg_line.y = local_regression(scatter.x,\n",
    "                                      scatter.y,\n",
    "                                      x_test,\n",
    "                                      bw=bw, \n",
    "                                      order=order)\n",
    "    except Exception as e:\n",
    "        print(e)\n",
    "\n",
    "def reset_points(*args):\n",
    "    with scatter.hold_sync():\n",
    "        # hold_sync will send trait updates \n",
    "        # (x and y here) to front end in one trip\n",
    "        scatter.x = x_train\n",
    "        scatter.y = y_train\n",
    "\n",
    "reset_button.on_click(lambda btn: reset_points())\n",
    "\n",
    "# event handlers for widget traits\n",
    "for w in [bw_slider, order_slider]:\n",
    "    w.observe(update_reg_line, 'value')\n",
    "\n",
    "scatter.observe(update_reg_line, 'y')\n",
    "\n",
    "def update_kernel_plot(*args):\n",
    "    new_bw_value = bw_slider.value\n",
    "    kernel_line.y = gaussian_kernel(x_train, np.array([0]), bw=bw_slider.value).squeeze()\n",
    "    \n",
    "bw_slider.observe(update_kernel_plot, 'value')\n",
    "\n",
    "update_reg_line(None)\n",
    "update_kernel_plot(None)\n",
    "VBox([HBox([sliders_layout, kernel_fig]), \n",
    "      VBox([reg_fig, reset_button])])"
   ]
  },
  {
   "cell_type": "code",
   "execution_count": null,
   "metadata": {
    "collapsed": true
   },
   "outputs": [],
   "source": []
  }
 ],
 "metadata": {
  "anaconda-cloud": {},
  "input_collapsed": false,
  "kernelspec": {
   "display_name": "Python 3",
   "language": "python",
   "name": "python3"
  },
  "language_info": {
   "codemirror_mode": {
    "name": "ipython",
    "version": 3
   },
   "file_extension": ".py",
   "mimetype": "text/x-python",
   "name": "python",
   "nbconvert_exporter": "python",
   "pygments_lexer": "ipython3",
   "version": "3.6.3"
  },
  "widgets": {
   "state": {
    "1846fe09e70f49ba8eb5654e0f3648e1": {
     "views": [
      {
       "cell_index": 1
      }
     ]
    }
   },
   "version": "2.0.5"
  }
 },
 "nbformat": 4,
 "nbformat_minor": 1
}
