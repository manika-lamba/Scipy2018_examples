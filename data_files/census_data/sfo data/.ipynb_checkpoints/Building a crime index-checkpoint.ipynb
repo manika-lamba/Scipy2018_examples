{
 "cells": [
  {
   "cell_type": "code",
   "execution_count": 1,
   "metadata": {
    "collapsed": true
   },
   "outputs": [],
   "source": [
    "import pandas as pd"
   ]
  },
  {
   "cell_type": "code",
   "execution_count": 2,
   "metadata": {
    "collapsed": true
   },
   "outputs": [],
   "source": [
    "data_path = './CensusData/sfo data'"
   ]
  },
  {
   "cell_type": "markdown",
   "metadata": {},
   "source": [
    "Getting tracts with their respective coordinates"
   ]
  },
  {
   "cell_type": "code",
   "execution_count": 3,
   "metadata": {
    "collapsed": false
   },
   "outputs": [
    {
     "ename": "IOError",
     "evalue": "File ./CensusData/sfo datatract_data_with_schools.csv does not exist",
     "output_type": "error",
     "traceback": [
      "\u001b[0;31m---------------------------------------------------------------------------\u001b[0m",
      "\u001b[0;31mIOError\u001b[0m                                   Traceback (most recent call last)",
      "\u001b[0;32m<ipython-input-3-d5edb4dfd840>\u001b[0m in \u001b[0;36m<module>\u001b[0;34m()\u001b[0m\n\u001b[0;32m----> 1\u001b[0;31m \u001b[0mtract\u001b[0m \u001b[0;34m=\u001b[0m \u001b[0mpd\u001b[0m\u001b[0;34m.\u001b[0m\u001b[0mread_csv\u001b[0m\u001b[0;34m(\u001b[0m\u001b[0mdata_path\u001b[0m \u001b[0;34m+\u001b[0m \u001b[0;34m'tract_data_with_schools.csv'\u001b[0m\u001b[0;34m)\u001b[0m\u001b[0;34m\u001b[0m\u001b[0m\n\u001b[0m\u001b[1;32m      2\u001b[0m \u001b[0mtract\u001b[0m\u001b[0;34m.\u001b[0m\u001b[0mhead\u001b[0m\u001b[0;34m(\u001b[0m\u001b[0;34m)\u001b[0m\u001b[0;34m\u001b[0m\u001b[0m\n",
      "\u001b[0;32m/Users/romain/jupyter/anaconda/lib/python2.7/site-packages/pandas/io/parsers.pyc\u001b[0m in \u001b[0;36mparser_f\u001b[0;34m(filepath_or_buffer, sep, delimiter, header, names, index_col, usecols, squeeze, prefix, mangle_dupe_cols, dtype, engine, converters, true_values, false_values, skipinitialspace, skiprows, skipfooter, nrows, na_values, keep_default_na, na_filter, verbose, skip_blank_lines, parse_dates, infer_datetime_format, keep_date_col, date_parser, dayfirst, iterator, chunksize, compression, thousands, decimal, lineterminator, quotechar, quoting, escapechar, comment, encoding, dialect, tupleize_cols, error_bad_lines, warn_bad_lines, skip_footer, doublequote, delim_whitespace, as_recarray, compact_ints, use_unsigned, low_memory, buffer_lines, memory_map, float_precision)\u001b[0m\n\u001b[1;32m    527\u001b[0m                     skip_blank_lines=skip_blank_lines)\n\u001b[1;32m    528\u001b[0m \u001b[0;34m\u001b[0m\u001b[0m\n\u001b[0;32m--> 529\u001b[0;31m         \u001b[0;32mreturn\u001b[0m \u001b[0m_read\u001b[0m\u001b[0;34m(\u001b[0m\u001b[0mfilepath_or_buffer\u001b[0m\u001b[0;34m,\u001b[0m \u001b[0mkwds\u001b[0m\u001b[0;34m)\u001b[0m\u001b[0;34m\u001b[0m\u001b[0m\n\u001b[0m\u001b[1;32m    530\u001b[0m \u001b[0;34m\u001b[0m\u001b[0m\n\u001b[1;32m    531\u001b[0m     \u001b[0mparser_f\u001b[0m\u001b[0;34m.\u001b[0m\u001b[0m__name__\u001b[0m \u001b[0;34m=\u001b[0m \u001b[0mname\u001b[0m\u001b[0;34m\u001b[0m\u001b[0m\n",
      "\u001b[0;32m/Users/romain/jupyter/anaconda/lib/python2.7/site-packages/pandas/io/parsers.pyc\u001b[0m in \u001b[0;36m_read\u001b[0;34m(filepath_or_buffer, kwds)\u001b[0m\n\u001b[1;32m    293\u001b[0m \u001b[0;34m\u001b[0m\u001b[0m\n\u001b[1;32m    294\u001b[0m     \u001b[0;31m# Create the parser.\u001b[0m\u001b[0;34m\u001b[0m\u001b[0;34m\u001b[0m\u001b[0m\n\u001b[0;32m--> 295\u001b[0;31m     \u001b[0mparser\u001b[0m \u001b[0;34m=\u001b[0m \u001b[0mTextFileReader\u001b[0m\u001b[0;34m(\u001b[0m\u001b[0mfilepath_or_buffer\u001b[0m\u001b[0;34m,\u001b[0m \u001b[0;34m**\u001b[0m\u001b[0mkwds\u001b[0m\u001b[0;34m)\u001b[0m\u001b[0;34m\u001b[0m\u001b[0m\n\u001b[0m\u001b[1;32m    296\u001b[0m \u001b[0;34m\u001b[0m\u001b[0m\n\u001b[1;32m    297\u001b[0m     \u001b[0;32mif\u001b[0m \u001b[0;34m(\u001b[0m\u001b[0mnrows\u001b[0m \u001b[0;32mis\u001b[0m \u001b[0;32mnot\u001b[0m \u001b[0mNone\u001b[0m\u001b[0;34m)\u001b[0m \u001b[0;32mand\u001b[0m \u001b[0;34m(\u001b[0m\u001b[0mchunksize\u001b[0m \u001b[0;32mis\u001b[0m \u001b[0;32mnot\u001b[0m \u001b[0mNone\u001b[0m\u001b[0;34m)\u001b[0m\u001b[0;34m:\u001b[0m\u001b[0;34m\u001b[0m\u001b[0m\n",
      "\u001b[0;32m/Users/romain/jupyter/anaconda/lib/python2.7/site-packages/pandas/io/parsers.pyc\u001b[0m in \u001b[0;36m__init__\u001b[0;34m(self, f, engine, **kwds)\u001b[0m\n\u001b[1;32m    610\u001b[0m             \u001b[0mself\u001b[0m\u001b[0;34m.\u001b[0m\u001b[0moptions\u001b[0m\u001b[0;34m[\u001b[0m\u001b[0;34m'has_index_names'\u001b[0m\u001b[0;34m]\u001b[0m \u001b[0;34m=\u001b[0m \u001b[0mkwds\u001b[0m\u001b[0;34m[\u001b[0m\u001b[0;34m'has_index_names'\u001b[0m\u001b[0;34m]\u001b[0m\u001b[0;34m\u001b[0m\u001b[0m\n\u001b[1;32m    611\u001b[0m \u001b[0;34m\u001b[0m\u001b[0m\n\u001b[0;32m--> 612\u001b[0;31m         \u001b[0mself\u001b[0m\u001b[0;34m.\u001b[0m\u001b[0m_make_engine\u001b[0m\u001b[0;34m(\u001b[0m\u001b[0mself\u001b[0m\u001b[0;34m.\u001b[0m\u001b[0mengine\u001b[0m\u001b[0;34m)\u001b[0m\u001b[0;34m\u001b[0m\u001b[0m\n\u001b[0m\u001b[1;32m    613\u001b[0m \u001b[0;34m\u001b[0m\u001b[0m\n\u001b[1;32m    614\u001b[0m     \u001b[0;32mdef\u001b[0m \u001b[0m_get_options_with_defaults\u001b[0m\u001b[0;34m(\u001b[0m\u001b[0mself\u001b[0m\u001b[0;34m,\u001b[0m \u001b[0mengine\u001b[0m\u001b[0;34m)\u001b[0m\u001b[0;34m:\u001b[0m\u001b[0;34m\u001b[0m\u001b[0m\n",
      "\u001b[0;32m/Users/romain/jupyter/anaconda/lib/python2.7/site-packages/pandas/io/parsers.pyc\u001b[0m in \u001b[0;36m_make_engine\u001b[0;34m(self, engine)\u001b[0m\n\u001b[1;32m    745\u001b[0m     \u001b[0;32mdef\u001b[0m \u001b[0m_make_engine\u001b[0m\u001b[0;34m(\u001b[0m\u001b[0mself\u001b[0m\u001b[0;34m,\u001b[0m \u001b[0mengine\u001b[0m\u001b[0;34m=\u001b[0m\u001b[0;34m'c'\u001b[0m\u001b[0;34m)\u001b[0m\u001b[0;34m:\u001b[0m\u001b[0;34m\u001b[0m\u001b[0m\n\u001b[1;32m    746\u001b[0m         \u001b[0;32mif\u001b[0m \u001b[0mengine\u001b[0m \u001b[0;34m==\u001b[0m \u001b[0;34m'c'\u001b[0m\u001b[0;34m:\u001b[0m\u001b[0;34m\u001b[0m\u001b[0m\n\u001b[0;32m--> 747\u001b[0;31m             \u001b[0mself\u001b[0m\u001b[0;34m.\u001b[0m\u001b[0m_engine\u001b[0m \u001b[0;34m=\u001b[0m \u001b[0mCParserWrapper\u001b[0m\u001b[0;34m(\u001b[0m\u001b[0mself\u001b[0m\u001b[0;34m.\u001b[0m\u001b[0mf\u001b[0m\u001b[0;34m,\u001b[0m \u001b[0;34m**\u001b[0m\u001b[0mself\u001b[0m\u001b[0;34m.\u001b[0m\u001b[0moptions\u001b[0m\u001b[0;34m)\u001b[0m\u001b[0;34m\u001b[0m\u001b[0m\n\u001b[0m\u001b[1;32m    748\u001b[0m         \u001b[0;32melse\u001b[0m\u001b[0;34m:\u001b[0m\u001b[0;34m\u001b[0m\u001b[0m\n\u001b[1;32m    749\u001b[0m             \u001b[0;32mif\u001b[0m \u001b[0mengine\u001b[0m \u001b[0;34m==\u001b[0m \u001b[0;34m'python'\u001b[0m\u001b[0;34m:\u001b[0m\u001b[0;34m\u001b[0m\u001b[0m\n",
      "\u001b[0;32m/Users/romain/jupyter/anaconda/lib/python2.7/site-packages/pandas/io/parsers.pyc\u001b[0m in \u001b[0;36m__init__\u001b[0;34m(self, src, **kwds)\u001b[0m\n\u001b[1;32m   1117\u001b[0m         \u001b[0mkwds\u001b[0m\u001b[0;34m[\u001b[0m\u001b[0;34m'allow_leading_cols'\u001b[0m\u001b[0;34m]\u001b[0m \u001b[0;34m=\u001b[0m \u001b[0mself\u001b[0m\u001b[0;34m.\u001b[0m\u001b[0mindex_col\u001b[0m \u001b[0;32mis\u001b[0m \u001b[0;32mnot\u001b[0m \u001b[0mFalse\u001b[0m\u001b[0;34m\u001b[0m\u001b[0m\n\u001b[1;32m   1118\u001b[0m \u001b[0;34m\u001b[0m\u001b[0m\n\u001b[0;32m-> 1119\u001b[0;31m         \u001b[0mself\u001b[0m\u001b[0;34m.\u001b[0m\u001b[0m_reader\u001b[0m \u001b[0;34m=\u001b[0m \u001b[0m_parser\u001b[0m\u001b[0;34m.\u001b[0m\u001b[0mTextReader\u001b[0m\u001b[0;34m(\u001b[0m\u001b[0msrc\u001b[0m\u001b[0;34m,\u001b[0m \u001b[0;34m**\u001b[0m\u001b[0mkwds\u001b[0m\u001b[0;34m)\u001b[0m\u001b[0;34m\u001b[0m\u001b[0m\n\u001b[0m\u001b[1;32m   1120\u001b[0m \u001b[0;34m\u001b[0m\u001b[0m\n\u001b[1;32m   1121\u001b[0m         \u001b[0;31m# XXX\u001b[0m\u001b[0;34m\u001b[0m\u001b[0;34m\u001b[0m\u001b[0m\n",
      "\u001b[0;32mpandas/parser.pyx\u001b[0m in \u001b[0;36mpandas.parser.TextReader.__cinit__ (pandas/parser.c:3246)\u001b[0;34m()\u001b[0m\n",
      "\u001b[0;32mpandas/parser.pyx\u001b[0m in \u001b[0;36mpandas.parser.TextReader._setup_parser_source (pandas/parser.c:6111)\u001b[0;34m()\u001b[0m\n",
      "\u001b[0;31mIOError\u001b[0m: File ./CensusData/sfo datatract_data_with_schools.csv does not exist"
     ]
    }
   ],
   "source": [
    "tract = pd.read_csv(data_path + 'tract_data_with_schools.csv')\n",
    "tract.head()"
   ]
  },
  {
   "cell_type": "code",
   "execution_count": 4,
   "metadata": {
    "collapsed": true
   },
   "outputs": [],
   "source": [
    "df = tract[['tractid', 'INTPTLAT', 'INTPTLONG']]\n",
    "df.columns = ['tractid', 'latitude', 'longitude']\n",
    "df.head()"
   ]
  },
  {
   "cell_type": "code",
   "execution_count": 6,
   "metadata": {
    "collapsed": false
   },
   "outputs": [],
   "source": [
    "# df.to_csv('tract_coordinates.csv')"
   ]
  },
  {
   "cell_type": "code",
   "execution_count": 34,
   "metadata": {
    "collapsed": true
   },
   "outputs": [],
   "source": [
    "import sys\n",
    "sys.path.append('../scripts/')"
   ]
  },
  {
   "cell_type": "code",
   "execution_count": 36,
   "metadata": {
    "collapsed": false
   },
   "outputs": [
    {
     "ename": "ImportError",
     "evalue": "No module named bayeshack.scripts",
     "output_type": "error",
     "traceback": [
      "\u001b[0;31m---------------------------------------------------------------------------\u001b[0m",
      "\u001b[0;31mImportError\u001b[0m                               Traceback (most recent call last)",
      "\u001b[0;32m<ipython-input-36-d7dca48aa0cb>\u001b[0m in \u001b[0;36m<module>\u001b[0;34m()\u001b[0m\n\u001b[0;32m----> 1\u001b[0;31m \u001b[0;32mfrom\u001b[0m \u001b[0mbayeshack\u001b[0m\u001b[0;34m.\u001b[0m\u001b[0mscripts\u001b[0m \u001b[0;32mimport\u001b[0m \u001b[0mscripts\u001b[0m\u001b[0;34m\u001b[0m\u001b[0m\n\u001b[0m",
      "\u001b[0;31mImportError\u001b[0m: No module named bayeshack.scripts"
     ]
    }
   ],
   "source": [
    "from bayeshack.scripts import scripts"
   ]
  },
  {
   "cell_type": "code",
   "execution_count": null,
   "metadata": {
    "collapsed": true
   },
   "outputs": [],
   "source": [
    "from bayesha"
   ]
  },
  {
   "cell_type": "code",
   "execution_count": 9,
   "metadata": {
    "collapsed": true
   },
   "outputs": [],
   "source": [
    "import numpy as np\n",
    "\n",
    "\n",
    "def distance(coords1, coords2):\n",
    "    '''\n",
    "    Distance between two latitude-longitude coordinates\n",
    "    Good enough approsimation when the compared points are close-by\n",
    "    '''\n",
    "    return np.sqrt((coords1[0]-coords2[0])**2 + (coords1[1]-coords2[1])**2)\n",
    "\n",
    "def gaussian_kernel(x, bw=1.):\n",
    "    return np.exp(-(x/bw)**2)\n",
    "\n",
    "def quartic_kernel(x, bw=1.):\n",
    "    y = (x/bw)**2\n",
    "    return 15/16. * (1-y)**2 * (y<1)\n",
    "\n",
    "def weighted_distances(point, ref_coords, kernel='quartic', bw=1.):\n",
    "    '''\n",
    "    returns ker(d(point, ref_coords))\n",
    "    '''\n",
    "    ker = {'quartic': quartic_kernel, 'gaussian': gaussian_kernel}[kernel]\n",
    "    distances = distance(point, ref_coords)\n",
    "    return ker(distances, bw=bw)\n",
    "    \n",
    "def point_density(point, ref_coords, kernel='quartic', bw=1.):\n",
    "    '''\n",
    "    density of points, defined by `ref_coords`, around `point`\n",
    "    '''\n",
    "    w = weighted_distances(point, ref_coords, kernel=kernel, bw=bw)\n",
    "    return np.sum(w)\n",
    "\n",
    "def average_score(point, ref_coords, scores, kernel='quartic', bw=1.):\n",
    "    '''\n",
    "    Weighted average of `scores`, weighted by distance to `point`\n",
    "    `ref_coords` are the latitudes and longitudes associated to `scores`\n",
    "    '''\n",
    "    w = weighted_distances(point, ref_coords, kernel=kernel, bw=bw)\n",
    "    if w.sum()==0 and kernel=='quartic':\n",
    "        return average_score(point, ref_coords, scores, kernel='gaussian', bw=bw)\n",
    "    return np.sum(w*scores) / w.sum()"
   ]
  },
  {
   "cell_type": "code",
   "execution_count": 12,
   "metadata": {
    "collapsed": false
   },
   "outputs": [],
   "source": [
    "crimes = pd.concat([pd.read_csv('crime_data_{}.csv'.format(k)) for k in xrange(10)])"
   ]
  },
  {
   "cell_type": "code",
   "execution_count": 13,
   "metadata": {
    "collapsed": false
   },
   "outputs": [
    {
     "data": {
      "text/html": [
       "<div>\n",
       "<table border=\"1\" class=\"dataframe\">\n",
       "  <thead>\n",
       "    <tr style=\"text-align: right;\">\n",
       "      <th></th>\n",
       "      <th>Unnamed: 0</th>\n",
       "      <th>﻿IncidntNum</th>\n",
       "      <th>Category</th>\n",
       "      <th>Descript</th>\n",
       "      <th>DayOfWeek</th>\n",
       "      <th>Date</th>\n",
       "      <th>Time</th>\n",
       "      <th>PdDistrict</th>\n",
       "      <th>Resolution</th>\n",
       "      <th>Address</th>\n",
       "      <th>X</th>\n",
       "      <th>Y</th>\n",
       "      <th>Location</th>\n",
       "      <th>PdId</th>\n",
       "    </tr>\n",
       "  </thead>\n",
       "  <tbody>\n",
       "    <tr>\n",
       "      <th>0</th>\n",
       "      <td>0</td>\n",
       "      <td>150027849</td>\n",
       "      <td>NON-CRIMINAL</td>\n",
       "      <td>SEARCH WARRANT SERVICE</td>\n",
       "      <td>Friday</td>\n",
       "      <td>01/09/2015</td>\n",
       "      <td>22:02</td>\n",
       "      <td>NORTHERN</td>\n",
       "      <td>ARREST, BOOKED</td>\n",
       "      <td>200 Block of LAGUNA ST</td>\n",
       "      <td>-122.425723</td>\n",
       "      <td>37.773431</td>\n",
       "      <td>(37.7734305349811, -122.425722704575)</td>\n",
       "      <td>15002784975025</td>\n",
       "    </tr>\n",
       "    <tr>\n",
       "      <th>1</th>\n",
       "      <td>1</td>\n",
       "      <td>150046504</td>\n",
       "      <td>VANDALISM</td>\n",
       "      <td>MALICIOUS MISCHIEF, VANDALISM OF VEHICLES</td>\n",
       "      <td>Thursday</td>\n",
       "      <td>01/15/2015</td>\n",
       "      <td>19:00</td>\n",
       "      <td>SOUTHERN</td>\n",
       "      <td>NONE</td>\n",
       "      <td>400 Block of THE EMBARCADEROSOUTH ST</td>\n",
       "      <td>-122.396709</td>\n",
       "      <td>37.797873</td>\n",
       "      <td>(37.7978728855933, -122.39670853026)</td>\n",
       "      <td>15004650428160</td>\n",
       "    </tr>\n",
       "    <tr>\n",
       "      <th>2</th>\n",
       "      <td>2</td>\n",
       "      <td>150048817</td>\n",
       "      <td>LARCENY/THEFT</td>\n",
       "      <td>PETTY THEFT SHOPLIFTING</td>\n",
       "      <td>Friday</td>\n",
       "      <td>01/16/2015</td>\n",
       "      <td>16:26</td>\n",
       "      <td>CENTRAL</td>\n",
       "      <td>NONE</td>\n",
       "      <td>200 Block of GRANT AV</td>\n",
       "      <td>-122.405254</td>\n",
       "      <td>37.789253</td>\n",
       "      <td>(37.7892525040522, -122.405254463024)</td>\n",
       "      <td>15004881706363</td>\n",
       "    </tr>\n",
       "    <tr>\n",
       "      <th>3</th>\n",
       "      <td>3</td>\n",
       "      <td>150380578</td>\n",
       "      <td>LARCENY/THEFT</td>\n",
       "      <td>PETTY THEFT FROM A BUILDING</td>\n",
       "      <td>Friday</td>\n",
       "      <td>05/01/2015</td>\n",
       "      <td>16:44</td>\n",
       "      <td>TARAVAL</td>\n",
       "      <td>ARREST, BOOKED</td>\n",
       "      <td>1900 Block of 19TH AV</td>\n",
       "      <td>-122.476096</td>\n",
       "      <td>37.751433</td>\n",
       "      <td>(37.7514328843776, -122.476096065298)</td>\n",
       "      <td>15038057806302</td>\n",
       "    </tr>\n",
       "    <tr>\n",
       "      <th>4</th>\n",
       "      <td>4</td>\n",
       "      <td>150380653</td>\n",
       "      <td>NON-CRIMINAL</td>\n",
       "      <td>LICENSE PLATE, FOUND</td>\n",
       "      <td>Thursday</td>\n",
       "      <td>04/30/2015</td>\n",
       "      <td>23:00</td>\n",
       "      <td>RICHMOND</td>\n",
       "      <td>NONE</td>\n",
       "      <td>BRODERICK ST / CALIFORNIA ST</td>\n",
       "      <td>-122.442112</td>\n",
       "      <td>37.787856</td>\n",
       "      <td>(37.7878555996754, -122.442112423143)</td>\n",
       "      <td>15038065371011</td>\n",
       "    </tr>\n",
       "  </tbody>\n",
       "</table>\n",
       "</div>"
      ],
      "text/plain": [
       "   Unnamed: 0  ﻿IncidntNum       Category  \\\n",
       "0           0    150027849   NON-CRIMINAL   \n",
       "1           1    150046504      VANDALISM   \n",
       "2           2    150048817  LARCENY/THEFT   \n",
       "3           3    150380578  LARCENY/THEFT   \n",
       "4           4    150380653   NON-CRIMINAL   \n",
       "\n",
       "                                    Descript DayOfWeek        Date   Time  \\\n",
       "0                     SEARCH WARRANT SERVICE    Friday  01/09/2015  22:02   \n",
       "1  MALICIOUS MISCHIEF, VANDALISM OF VEHICLES  Thursday  01/15/2015  19:00   \n",
       "2                    PETTY THEFT SHOPLIFTING    Friday  01/16/2015  16:26   \n",
       "3                PETTY THEFT FROM A BUILDING    Friday  05/01/2015  16:44   \n",
       "4                       LICENSE PLATE, FOUND  Thursday  04/30/2015  23:00   \n",
       "\n",
       "  PdDistrict      Resolution                               Address  \\\n",
       "0   NORTHERN  ARREST, BOOKED                200 Block of LAGUNA ST   \n",
       "1   SOUTHERN            NONE  400 Block of THE EMBARCADEROSOUTH ST   \n",
       "2    CENTRAL            NONE                 200 Block of GRANT AV   \n",
       "3    TARAVAL  ARREST, BOOKED                 1900 Block of 19TH AV   \n",
       "4   RICHMOND            NONE          BRODERICK ST / CALIFORNIA ST   \n",
       "\n",
       "            X          Y                               Location  \\\n",
       "0 -122.425723  37.773431  (37.7734305349811, -122.425722704575)   \n",
       "1 -122.396709  37.797873   (37.7978728855933, -122.39670853026)   \n",
       "2 -122.405254  37.789253  (37.7892525040522, -122.405254463024)   \n",
       "3 -122.476096  37.751433  (37.7514328843776, -122.476096065298)   \n",
       "4 -122.442112  37.787856  (37.7878555996754, -122.442112423143)   \n",
       "\n",
       "             PdId  \n",
       "0  15002784975025  \n",
       "1  15004650428160  \n",
       "2  15004881706363  \n",
       "3  15038057806302  \n",
       "4  15038065371011  "
      ]
     },
     "execution_count": 13,
     "metadata": {},
     "output_type": "execute_result"
    }
   ],
   "source": [
    "crimes.head()"
   ]
  },
  {
   "cell_type": "code",
   "execution_count": 14,
   "metadata": {
    "collapsed": true
   },
   "outputs": [],
   "source": [
    "real_crimes = crimes[crimes['Category']!='NON-CRIMINAL']"
   ]
  },
  {
   "cell_type": "code",
   "execution_count": 15,
   "metadata": {
    "collapsed": false
   },
   "outputs": [
    {
     "data": {
      "text/html": [
       "<div>\n",
       "<table border=\"1\" class=\"dataframe\">\n",
       "  <thead>\n",
       "    <tr style=\"text-align: right;\">\n",
       "      <th></th>\n",
       "      <th>Unnamed: 0</th>\n",
       "      <th>﻿IncidntNum</th>\n",
       "      <th>Category</th>\n",
       "      <th>Descript</th>\n",
       "      <th>DayOfWeek</th>\n",
       "      <th>Date</th>\n",
       "      <th>Time</th>\n",
       "      <th>PdDistrict</th>\n",
       "      <th>Resolution</th>\n",
       "      <th>Address</th>\n",
       "      <th>X</th>\n",
       "      <th>Y</th>\n",
       "      <th>Location</th>\n",
       "      <th>PdId</th>\n",
       "    </tr>\n",
       "  </thead>\n",
       "  <tbody>\n",
       "    <tr>\n",
       "      <th>1</th>\n",
       "      <td>1</td>\n",
       "      <td>150046504</td>\n",
       "      <td>VANDALISM</td>\n",
       "      <td>MALICIOUS MISCHIEF, VANDALISM OF VEHICLES</td>\n",
       "      <td>Thursday</td>\n",
       "      <td>01/15/2015</td>\n",
       "      <td>19:00</td>\n",
       "      <td>SOUTHERN</td>\n",
       "      <td>NONE</td>\n",
       "      <td>400 Block of THE EMBARCADEROSOUTH ST</td>\n",
       "      <td>-122.396709</td>\n",
       "      <td>37.797873</td>\n",
       "      <td>(37.7978728855933, -122.39670853026)</td>\n",
       "      <td>15004650428160</td>\n",
       "    </tr>\n",
       "    <tr>\n",
       "      <th>2</th>\n",
       "      <td>2</td>\n",
       "      <td>150048817</td>\n",
       "      <td>LARCENY/THEFT</td>\n",
       "      <td>PETTY THEFT SHOPLIFTING</td>\n",
       "      <td>Friday</td>\n",
       "      <td>01/16/2015</td>\n",
       "      <td>16:26</td>\n",
       "      <td>CENTRAL</td>\n",
       "      <td>NONE</td>\n",
       "      <td>200 Block of GRANT AV</td>\n",
       "      <td>-122.405254</td>\n",
       "      <td>37.789253</td>\n",
       "      <td>(37.7892525040522, -122.405254463024)</td>\n",
       "      <td>15004881706363</td>\n",
       "    </tr>\n",
       "    <tr>\n",
       "      <th>3</th>\n",
       "      <td>3</td>\n",
       "      <td>150380578</td>\n",
       "      <td>LARCENY/THEFT</td>\n",
       "      <td>PETTY THEFT FROM A BUILDING</td>\n",
       "      <td>Friday</td>\n",
       "      <td>05/01/2015</td>\n",
       "      <td>16:44</td>\n",
       "      <td>TARAVAL</td>\n",
       "      <td>ARREST, BOOKED</td>\n",
       "      <td>1900 Block of 19TH AV</td>\n",
       "      <td>-122.476096</td>\n",
       "      <td>37.751433</td>\n",
       "      <td>(37.7514328843776, -122.476096065298)</td>\n",
       "      <td>15038057806302</td>\n",
       "    </tr>\n",
       "    <tr>\n",
       "      <th>5</th>\n",
       "      <td>5</td>\n",
       "      <td>150380669</td>\n",
       "      <td>OTHER OFFENSES</td>\n",
       "      <td>DRIVERS LICENSE, SUSPENDED OR REVOKED</td>\n",
       "      <td>Saturday</td>\n",
       "      <td>05/02/2015</td>\n",
       "      <td>00:42</td>\n",
       "      <td>PARK</td>\n",
       "      <td>ARREST, BOOKED</td>\n",
       "      <td>DIVISADERO ST / OFARRELL ST</td>\n",
       "      <td>-122.439299</td>\n",
       "      <td>37.782449</td>\n",
       "      <td>(37.7824492641129, -122.43929911672)</td>\n",
       "      <td>15038066965016</td>\n",
       "    </tr>\n",
       "    <tr>\n",
       "      <th>6</th>\n",
       "      <td>6</td>\n",
       "      <td>140009459</td>\n",
       "      <td>ARSON</td>\n",
       "      <td>ARSON</td>\n",
       "      <td>Saturday</td>\n",
       "      <td>01/04/2014</td>\n",
       "      <td>03:52</td>\n",
       "      <td>NORTHERN</td>\n",
       "      <td>ARREST, BOOKED</td>\n",
       "      <td>SACRAMENTO ST / POLK ST</td>\n",
       "      <td>-122.420875</td>\n",
       "      <td>37.791494</td>\n",
       "      <td>(37.7914943051906, -122.420874632415)</td>\n",
       "      <td>14000945926030</td>\n",
       "    </tr>\n",
       "  </tbody>\n",
       "</table>\n",
       "</div>"
      ],
      "text/plain": [
       "   Unnamed: 0  ﻿IncidntNum        Category  \\\n",
       "1           1    150046504       VANDALISM   \n",
       "2           2    150048817   LARCENY/THEFT   \n",
       "3           3    150380578   LARCENY/THEFT   \n",
       "5           5    150380669  OTHER OFFENSES   \n",
       "6           6    140009459           ARSON   \n",
       "\n",
       "                                    Descript DayOfWeek        Date   Time  \\\n",
       "1  MALICIOUS MISCHIEF, VANDALISM OF VEHICLES  Thursday  01/15/2015  19:00   \n",
       "2                    PETTY THEFT SHOPLIFTING    Friday  01/16/2015  16:26   \n",
       "3                PETTY THEFT FROM A BUILDING    Friday  05/01/2015  16:44   \n",
       "5      DRIVERS LICENSE, SUSPENDED OR REVOKED  Saturday  05/02/2015  00:42   \n",
       "6                                      ARSON  Saturday  01/04/2014  03:52   \n",
       "\n",
       "  PdDistrict      Resolution                               Address  \\\n",
       "1   SOUTHERN            NONE  400 Block of THE EMBARCADEROSOUTH ST   \n",
       "2    CENTRAL            NONE                 200 Block of GRANT AV   \n",
       "3    TARAVAL  ARREST, BOOKED                 1900 Block of 19TH AV   \n",
       "5       PARK  ARREST, BOOKED           DIVISADERO ST / OFARRELL ST   \n",
       "6   NORTHERN  ARREST, BOOKED               SACRAMENTO ST / POLK ST   \n",
       "\n",
       "            X          Y                               Location  \\\n",
       "1 -122.396709  37.797873   (37.7978728855933, -122.39670853026)   \n",
       "2 -122.405254  37.789253  (37.7892525040522, -122.405254463024)   \n",
       "3 -122.476096  37.751433  (37.7514328843776, -122.476096065298)   \n",
       "5 -122.439299  37.782449   (37.7824492641129, -122.43929911672)   \n",
       "6 -122.420875  37.791494  (37.7914943051906, -122.420874632415)   \n",
       "\n",
       "             PdId  \n",
       "1  15004650428160  \n",
       "2  15004881706363  \n",
       "3  15038057806302  \n",
       "5  15038066965016  \n",
       "6  14000945926030  "
      ]
     },
     "execution_count": 15,
     "metadata": {},
     "output_type": "execute_result"
    }
   ],
   "source": [
    "real_crimes.head()"
   ]
  },
  {
   "cell_type": "code",
   "execution_count": 33,
   "metadata": {
    "collapsed": false
   },
   "outputs": [
    {
     "data": {
      "text/plain": [
       "(1901240, 1698873)"
      ]
     },
     "execution_count": 33,
     "metadata": {},
     "output_type": "execute_result"
    }
   ],
   "source": [
    "crimes.shape[0], real_crimes.shape[0]"
   ]
  },
  {
   "cell_type": "code",
   "execution_count": 19,
   "metadata": {
    "collapsed": false
   },
   "outputs": [],
   "source": [
    "crime_density = df.apply(lambda c: point_density((c['latitude'], c['longitude']), \n",
    "                                 (real_crimes['Y'], real_crimes['X']),\n",
    "                                kernel='gaussian', bw=0.01), axis=1)"
   ]
  },
  {
   "cell_type": "code",
   "execution_count": 30,
   "metadata": {
    "collapsed": false
   },
   "outputs": [
    {
     "data": {
      "text/plain": [
       "0      1.089680e+01\n",
       "1      1.107755e+01\n",
       "2      2.161334e+01\n",
       "3      2.111965e+01\n",
       "4      1.241343e+01\n",
       "5      2.792422e+01\n",
       "6      3.216121e+01\n",
       "7      3.804512e+01\n",
       "8      2.553071e+01\n",
       "9      3.838851e+01\n",
       "10     5.586195e+01\n",
       "11     5.729905e+01\n",
       "12     4.830793e+01\n",
       "13     5.650465e+01\n",
       "14     5.130333e+01\n",
       "15     7.066193e+01\n",
       "16     6.924548e+01\n",
       "17     6.972329e+01\n",
       "18     8.229759e+01\n",
       "19     8.555739e+01\n",
       "20     7.203862e+01\n",
       "21     9.504218e+01\n",
       "22     9.092087e+01\n",
       "23     9.180060e+01\n",
       "24     8.036945e+01\n",
       "25     1.000000e+02\n",
       "26     9.900301e+01\n",
       "27     7.709605e+00\n",
       "28     5.912068e+00\n",
       "29     4.028553e+00\n",
       "           ...     \n",
       "167    5.612592e+00\n",
       "168    4.390621e+00\n",
       "169    4.873902e+00\n",
       "170    3.888034e+00\n",
       "171    2.234713e+00\n",
       "172    8.750918e+00\n",
       "173    7.380307e+00\n",
       "174    5.697581e+00\n",
       "175    4.728992e+00\n",
       "176    4.470040e+00\n",
       "177    3.788071e+00\n",
       "178    3.043838e+00\n",
       "179    1.328861e+00\n",
       "180    2.396716e+00\n",
       "181    2.666886e-01\n",
       "182    1.443388e+00\n",
       "183    5.691138e+00\n",
       "184    1.043595e+01\n",
       "185    2.938577e+00\n",
       "186    3.780707e+01\n",
       "187    1.571342e+01\n",
       "188    1.206954e+01\n",
       "189    2.002829e+01\n",
       "190    1.217717e+00\n",
       "191    3.135258e+00\n",
       "192    0.000000e+00\n",
       "193    6.115176e+00\n",
       "194    1.261817e+00\n",
       "195    8.482426e+00\n",
       "196    2.711319e-08\n",
       "dtype: float64"
      ]
     },
     "execution_count": 30,
     "metadata": {},
     "output_type": "execute_result"
    }
   ],
   "source": [
    "100.*crime_density / crime_density.max()"
   ]
  },
  {
   "cell_type": "code",
   "execution_count": 27,
   "metadata": {
    "collapsed": false
   },
   "outputs": [],
   "source": [
    "df['crime_index'] = 100*crime_density / crime_density.max()"
   ]
  },
  {
   "cell_type": "code",
   "execution_count": 29,
   "metadata": {
    "collapsed": false
   },
   "outputs": [],
   "source": [
    "df.to_csv('crime_index.csv')"
   ]
  },
  {
   "cell_type": "code",
   "execution_count": null,
   "metadata": {
    "collapsed": true
   },
   "outputs": [],
   "source": []
  }
 ],
 "metadata": {
  "kernelspec": {
   "display_name": "Python 2",
   "language": "python",
   "name": "python2"
  },
  "language_info": {
   "codemirror_mode": {
    "name": "ipython",
    "version": 2
   },
   "file_extension": ".py",
   "mimetype": "text/x-python",
   "name": "python",
   "nbconvert_exporter": "python",
   "pygments_lexer": "ipython2",
   "version": "2.7.11"
  },
  "widgets": {
   "state": {},
   "version": "1.0.0"
  }
 },
 "nbformat": 4,
 "nbformat_minor": 0
}
